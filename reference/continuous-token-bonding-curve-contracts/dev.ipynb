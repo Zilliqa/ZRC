{
  "nbformat": 4,
  "nbformat_minor": 0,
  "metadata": {
    "colab": {
      "name": "Bancor.ipynb",
      "provenance": []
    },
    "kernelspec": {
      "name": "python3",
      "display_name": "Python 3"
    },
    "language_info": {
      "name": "python"
    }
  },
  "cells": [
    {
      "cell_type": "markdown",
      "metadata": {
        "id": "y43goonPbn7j"
      },
      "source": [
        "tokens issued = supply ×\n",
        "(((balance + connected tokens paid)/balance)^CW− 1)\n"
      ]
    },
    {
      "cell_type": "code",
      "metadata": {
        "id": "kDa7E36LxhnE"
      },
      "source": [
        ""
      ],
      "execution_count": null,
      "outputs": []
    },
    {
      "cell_type": "markdown",
      "metadata": {
        "id": "8rJBc6qbb9hS"
      },
      "source": [
        "tokens_issued = supply*(exp^(log((balance+connected_tokens_paid)/balance)*CW)))"
      ]
    },
    {
      "cell_type": "code",
      "metadata": {
        "id": "SoqSgm1Dkpq-"
      },
      "source": [
        "# Exponent width: 19 bits\n",
        "# Significand precision: 237 bits (236 explicitly stored)\n",
        "\n",
        "# 3fff f000\n",
        "# 0 | 011 1111 1111 1111 111 | 1 0000 0000 0000 ... => 1\n"
      ],
      "execution_count": null,
      "outputs": []
    },
    {
      "cell_type": "code",
      "metadata": {
        "id": "ZNDwVw7FxubQ"
      },
      "source": [
        "u = [0 for i in range(256)]\n",
        "u"
      ],
      "execution_count": null,
      "outputs": []
    },
    {
      "cell_type": "code",
      "metadata": {
        "id": "DTUbsA1GyoJR",
        "colab": {
          "base_uri": "https://localhost:8080/"
        },
        "outputId": "ccc1f6dc-ecc0-4849-fcf1-2c439e5a10a6"
      },
      "source": [
        "0xd3094c70f034de4b96ff7d5b6f99fcd8 - 0x080000000000000000000000000000000"
      ],
      "execution_count": null,
      "outputs": [
        {
          "output_type": "execute_result",
          "data": {
            "text/plain": [
              "110374204732899226283719123795156008152"
            ]
          },
          "metadata": {
            "tags": []
          },
          "execution_count": 1
        }
      ]
    },
    {
      "cell_type": "code",
      "metadata": {
        "id": "ECScMY_FXkzO"
      },
      "source": [
        ""
      ],
      "execution_count": null,
      "outputs": []
    },
    {
      "cell_type": "code",
      "metadata": {
        "id": "whHChBOHkeE_"
      },
      "source": [
        "s = \"\"\"\n",
        "        if (x >= 0xd3094c70f034de4b96ff7d5b6f99fcd8) {res += 0x40000000000000000000000000000000; x = x * FIXED_1 / 0xd3094c70f034de4b96ff7d5b6f99fcd8;} // add 1 / 2^1\n",
        "        if (x >= 0xa45af1e1f40c333b3de1db4dd55f29a7) {res += 0x20000000000000000000000000000000; x = x * FIXED_1 / 0xa45af1e1f40c333b3de1db4dd55f29a7;} // add 1 / 2^2\n",
        "        if (x >= 0x910b022db7ae67ce76b441c27035c6a1) {res += 0x10000000000000000000000000000000; x = x * FIXED_1 / 0x910b022db7ae67ce76b441c27035c6a1;} // add 1 / 2^3\n",
        "        if (x >= 0x88415abbe9a76bead8d00cf112e4d4a8) {res += 0x08000000000000000000000000000000; x = x * FIXED_1 / 0x88415abbe9a76bead8d00cf112e4d4a8;} // add 1 / 2^4\n",
        "        if (x >= 0x84102b00893f64c705e841d5d4064bd3) {res += 0x04000000000000000000000000000000; x = x * FIXED_1 / 0x84102b00893f64c705e841d5d4064bd3;} // add 1 / 2^5\n",
        "        if (x >= 0x8204055aaef1c8bd5c3259f4822735a2) {res += 0x02000000000000000000000000000000; x = x * FIXED_1 / 0x8204055aaef1c8bd5c3259f4822735a2;} // add 1 / 2^6\n",
        "        if (x >= 0x810100ab00222d861931c15e39b44e99) {res += 0x01000000000000000000000000000000; x = x * FIXED_1 / 0x810100ab00222d861931c15e39b44e99;} // add 1 / 2^7\n",
        "        if (x >= 0x808040155aabbbe9451521693554f733) {res += 0x00800000000000000000000000000000; x = x * FIXED_1 / 0x808040155aabbbe9451521693554f733;} // add 1 / 2^8\n",
        "\"\"\"\n",
        "pow_of_2 = \"\"\"\n",
        "     0x40000000000000000000000000000000 ,\n",
        "       0x20000000000000000000000000000000 ,\n",
        "    0x10000000000000000000000000000000 ,\n",
        "   0x08000000000000000000000000000000 ,\n",
        "  0x04000000000000000000000000000000 ,\n",
        "         0x02000000000000000000000000000000 ,\n",
        "         0x01000000000000000000000000000000 ,\n",
        "       0x00800000000000000000000000000000 ,\n",
        "\"\"\""
      ],
      "execution_count": null,
      "outputs": []
    },
    {
      "cell_type": "code",
      "metadata": {
        "colab": {
          "base_uri": "https://localhost:8080/",
          "height": 232
        },
        "id": "IWr2BB2SYvn8",
        "outputId": "2614256b-cd39-4b34-b1f0-1c8a675d123b"
      },
      "source": [
        "import math\n",
        "pow_2 = [int(i.strip(), base=16) for i in pow_of_2.split(\",\") if \"0x\" in i]\n",
        "k = [i.strip().split(\") {\") for i in s.strip().split(\">=\")]\n",
        "b = [int(i[0], base=16) for i in k if len(i) > 1]\n",
        "OPT_LOG_MAX_VAL = 0x15bf0a8b1457695355fb8ac404e7a79e3 - 1\n",
        "FIXED_1 = 0x080000000000000000000000000000000\n",
        "FIRST_CHECK = 0xd3094c70f034de4b96ff7d5b6f99fcd8\n",
        "reduced = [i - FIXED_1 for i in b]\n",
        "print(math.log(OPT_LOG_MAX_VAL))\n",
        "print(\"start\")\n",
        "for i in b:\n",
        "  print(math.log(i))\n",
        "print(\"end\")\n",
        "print(math.log(FIXED_1))"
      ],
      "execution_count": null,
      "outputs": [
        {
          "output_type": "error",
          "ename": "NameError",
          "evalue": "ignored",
          "traceback": [
            "\u001b[0;31m---------------------------------------------------------------------------\u001b[0m",
            "\u001b[0;31mNameError\u001b[0m                                 Traceback (most recent call last)",
            "\u001b[0;32m<ipython-input-35-4d03db609f7c>\u001b[0m in \u001b[0;36m<module>\u001b[0;34m()\u001b[0m\n\u001b[1;32m      1\u001b[0m \u001b[0;32mimport\u001b[0m \u001b[0mmath\u001b[0m\u001b[0;34m\u001b[0m\u001b[0;34m\u001b[0m\u001b[0m\n\u001b[0;32m----> 2\u001b[0;31m \u001b[0mpow_2\u001b[0m \u001b[0;34m=\u001b[0m \u001b[0;34m[\u001b[0m\u001b[0mint\u001b[0m\u001b[0;34m(\u001b[0m\u001b[0mi\u001b[0m\u001b[0;34m.\u001b[0m\u001b[0mstrip\u001b[0m\u001b[0;34m(\u001b[0m\u001b[0;34m)\u001b[0m\u001b[0;34m,\u001b[0m \u001b[0mbase\u001b[0m\u001b[0;34m=\u001b[0m\u001b[0;36m16\u001b[0m\u001b[0;34m)\u001b[0m \u001b[0;32mfor\u001b[0m \u001b[0mi\u001b[0m \u001b[0;32min\u001b[0m \u001b[0mpow_of_2\u001b[0m\u001b[0;34m.\u001b[0m\u001b[0msplit\u001b[0m\u001b[0;34m(\u001b[0m\u001b[0;34m\",\"\u001b[0m\u001b[0;34m)\u001b[0m \u001b[0;32mif\u001b[0m \u001b[0;34m\"0x\"\u001b[0m \u001b[0;32min\u001b[0m \u001b[0mi\u001b[0m\u001b[0;34m]\u001b[0m\u001b[0;34m\u001b[0m\u001b[0;34m\u001b[0m\u001b[0m\n\u001b[0m\u001b[1;32m      3\u001b[0m \u001b[0mk\u001b[0m \u001b[0;34m=\u001b[0m \u001b[0;34m[\u001b[0m\u001b[0mi\u001b[0m\u001b[0;34m.\u001b[0m\u001b[0mstrip\u001b[0m\u001b[0;34m(\u001b[0m\u001b[0;34m)\u001b[0m\u001b[0;34m.\u001b[0m\u001b[0msplit\u001b[0m\u001b[0;34m(\u001b[0m\u001b[0;34m\") {\"\u001b[0m\u001b[0;34m)\u001b[0m \u001b[0;32mfor\u001b[0m \u001b[0mi\u001b[0m \u001b[0;32min\u001b[0m \u001b[0ms\u001b[0m\u001b[0;34m.\u001b[0m\u001b[0mstrip\u001b[0m\u001b[0;34m(\u001b[0m\u001b[0;34m)\u001b[0m\u001b[0;34m.\u001b[0m\u001b[0msplit\u001b[0m\u001b[0;34m(\u001b[0m\u001b[0;34m\">=\"\u001b[0m\u001b[0;34m)\u001b[0m\u001b[0;34m]\u001b[0m\u001b[0;34m\u001b[0m\u001b[0;34m\u001b[0m\u001b[0m\n\u001b[1;32m      4\u001b[0m \u001b[0mb\u001b[0m \u001b[0;34m=\u001b[0m \u001b[0;34m[\u001b[0m\u001b[0mint\u001b[0m\u001b[0;34m(\u001b[0m\u001b[0mi\u001b[0m\u001b[0;34m[\u001b[0m\u001b[0;36m0\u001b[0m\u001b[0;34m]\u001b[0m\u001b[0;34m,\u001b[0m \u001b[0mbase\u001b[0m\u001b[0;34m=\u001b[0m\u001b[0;36m16\u001b[0m\u001b[0;34m)\u001b[0m \u001b[0;32mfor\u001b[0m \u001b[0mi\u001b[0m \u001b[0;32min\u001b[0m \u001b[0mk\u001b[0m \u001b[0;32mif\u001b[0m \u001b[0mlen\u001b[0m\u001b[0;34m(\u001b[0m\u001b[0mi\u001b[0m\u001b[0;34m)\u001b[0m \u001b[0;34m>\u001b[0m \u001b[0;36m1\u001b[0m\u001b[0;34m]\u001b[0m\u001b[0;34m\u001b[0m\u001b[0;34m\u001b[0m\u001b[0m\n\u001b[1;32m      5\u001b[0m \u001b[0mOPT_LOG_MAX_VAL\u001b[0m \u001b[0;34m=\u001b[0m \u001b[0;36m0x15bf0a8b1457695355fb8ac404e7a79e3\u001b[0m \u001b[0;34m-\u001b[0m \u001b[0;36m1\u001b[0m\u001b[0;34m\u001b[0m\u001b[0;34m\u001b[0m\u001b[0m\n",
            "\u001b[0;31mNameError\u001b[0m: name 'pow_of_2' is not defined"
          ]
        }
      ]
    },
    {
      "cell_type": "code",
      "metadata": {
        "colab": {
          "base_uri": "https://localhost:8080/"
        },
        "id": "OJYsvVcxjSRz",
        "outputId": "c813928c-6503-4869-c3d0-371be65a330a"
      },
      "source": [
        "value = OPT_LOG_MAX_VAL\n",
        "res = 0\n",
        "for index in range(len(b)):\n",
        "  check = b[index]\n",
        "  if value >= check:\n",
        "    print(\"add pow \", str(index+1))\n",
        "    res += pow_2[index]\n",
        "    value = (value*FIXED_1)//check\n",
        "print(math.log(res))\n",
        "print(\"ln(x) - ln(FIXED_1), that would be the fractional part?\")\n",
        "print(math.log(value) - math.log(FIXED_1))\n",
        "\n"
      ],
      "execution_count": null,
      "outputs": [
        {
          "output_type": "stream",
          "text": [
            "add pow  1\n",
            "add pow  2\n",
            "add pow  3\n",
            "add pow  4\n",
            "add pow  5\n",
            "add pow  6\n",
            "add pow  7\n",
            "add pow  8\n",
            "88.02577803179192\n",
            "ln(x) - ln(FIXED_1), that would be the fractional part?\n",
            "0.00390625\n"
          ],
          "name": "stdout"
        }
      ]
    },
    {
      "cell_type": "code",
      "metadata": {
        "colab": {
          "base_uri": "https://localhost:8080/"
        },
        "id": "6v5Pi0QFYzqj",
        "outputId": "3733aa72-ce8e-4e40-e04e-708812b9e94c"
      },
      "source": [
        "s = 0\n",
        "for i in range(1, 9):\n",
        "  s += 1/2**i\n",
        "1- s"
      ],
      "execution_count": null,
      "outputs": [
        {
          "output_type": "execute_result",
          "data": {
            "text/plain": [
              "0.00390625"
            ]
          },
          "metadata": {
            "tags": []
          },
          "execution_count": 5
        }
      ]
    },
    {
      "cell_type": "code",
      "metadata": {
        "colab": {
          "base_uri": "https://localhost:8080/"
        },
        "id": "Q4iVlPxDbrip",
        "outputId": "da9c9c0f-2da3-4d8c-974d-315087852cdb"
      },
      "source": [
        "print(0x099999999999999999999999999999999 - FIXED_1*(6/5))\n",
        "print(math.log(FIXED_1))"
      ],
      "execution_count": null,
      "outputs": [
        {
          "output_type": "stream",
          "text": [
            "0.0\n",
            "88.02969193111305\n"
          ],
          "name": "stdout"
        }
      ]
    },
    {
      "cell_type": "code",
      "metadata": {
        "colab": {
          "base_uri": "https://localhost:8080/"
        },
        "id": "u5r5y-SltPNS",
        "outputId": "4a7a7c7e-7fdb-4c87-fe5d-24d771fff475"
      },
      "source": [
        "math.pow(math.e, 89.02969193111305) - math.pow(math.e, 88.02969193111305) - FIXED_1"
      ],
      "execution_count": null,
      "outputs": [
        {
          "output_type": "execute_result",
          "data": {
            "text/plain": [
              "1.2220932035216892e+38"
            ]
          },
          "metadata": {
            "tags": []
          },
          "execution_count": 7
        }
      ]
    },
    {
      "cell_type": "code",
      "metadata": {
        "colab": {
          "base_uri": "https://localhost:8080/"
        },
        "id": "8V1bgor6yY0J",
        "outputId": "4966708a-8ad9-4b76-d496-8d79372b6f12"
      },
      "source": [
        "FIXED_2 = 0x100000000000000000000000000000000\n",
        "FIXED_1*2 - FIXED_2"
      ],
      "execution_count": null,
      "outputs": [
        {
          "output_type": "execute_result",
          "data": {
            "text/plain": [
              "0"
            ]
          },
          "metadata": {
            "tags": []
          },
          "execution_count": 8
        }
      ]
    },
    {
      "cell_type": "code",
      "metadata": {
        "colab": {
          "base_uri": "https://localhost:8080/"
        },
        "id": "KSOC-nIgy1YO",
        "outputId": "dc15e7d2-4168-43ee-a29d-55d364aed585"
      },
      "source": [
        "0x10000000000000000000000000000000 - FIXED_1//8"
      ],
      "execution_count": null,
      "outputs": [
        {
          "output_type": "execute_result",
          "data": {
            "text/plain": [
              "0"
            ]
          },
          "metadata": {
            "tags": []
          },
          "execution_count": 14
        }
      ]
    },
    {
      "cell_type": "code",
      "metadata": {
        "colab": {
          "base_uri": "https://localhost:8080/"
        },
        "id": "vrM89C82PVcw",
        "outputId": "6743a6b8-8b30-46a2-a2f7-ac83008196d2"
      },
      "source": [
        "0x080000000000000000000000000000000"
      ],
      "execution_count": null,
      "outputs": [
        {
          "output_type": "execute_result",
          "data": {
            "text/plain": [
              "170141183460469231731687303715884105728"
            ]
          },
          "metadata": {
            "tags": []
          },
          "execution_count": 16
        }
      ]
    },
    {
      "cell_type": "markdown",
      "metadata": {
        "id": "NoHzQFwrtuXJ"
      },
      "source": [
        "# Generate optimal log part 1\n"
      ]
    },
    {
      "cell_type": "code",
      "metadata": {
        "colab": {
          "base_uri": "https://localhost:8080/"
        },
        "id": "qXsj5L4kfxlQ",
        "outputId": "4d1ee00a-9205-470e-a667-46871032dea6"
      },
      "source": [
        " s = \"\"\"       if (x >= 0xd3094c70f034de4b96ff7d5b6f99fcd8) {res += 0x40000000000000000000000000000000; x = x * FIXED_1 / 0xd3094c70f034de4b96ff7d5b6f99fcd8;} // add 1 / 2^1\n",
        "        if (x >= 0xa45af1e1f40c333b3de1db4dd55f29a7) {res += 0x20000000000000000000000000000000; x = x * FIXED_1 / 0xa45af1e1f40c333b3de1db4dd55f29a7;} // add 1 / 2^2\n",
        "        if (x >= 0x910b022db7ae67ce76b441c27035c6a1) {res += 0x10000000000000000000000000000000; x = x * FIXED_1 / 0x910b022db7ae67ce76b441c27035c6a1;} // add 1 / 2^3\n",
        "        if (x >= 0x88415abbe9a76bead8d00cf112e4d4a8) {res += 0x08000000000000000000000000000000; x = x * FIXED_1 / 0x88415abbe9a76bead8d00cf112e4d4a8;} // add 1 / 2^4\n",
        "        if (x >= 0x84102b00893f64c705e841d5d4064bd3) {res += 0x04000000000000000000000000000000; x = x * FIXED_1 / 0x84102b00893f64c705e841d5d4064bd3;} // add 1 / 2^5\n",
        "        if (x >= 0x8204055aaef1c8bd5c3259f4822735a2) {res += 0x02000000000000000000000000000000; x = x * FIXED_1 / 0x8204055aaef1c8bd5c3259f4822735a2;} // add 1 / 2^6\n",
        "        if (x >= 0x810100ab00222d861931c15e39b44e99) {res += 0x01000000000000000000000000000000; x = x * FIXED_1 / 0x810100ab00222d861931c15e39b44e99;} // add 1 / 2^7\n",
        "        if (x >= 0x808040155aabbbe9451521693554f733) {res += 0x00800000000000000000000000000000; x = x * FIXED_1 / 0x808040155aabbbe9451521693554f733;} // add 1 / 2^8\"\"\"\n",
        "b = [i.split(\") {res += \") for i in s.strip().split(\"(x >= \") if \") {res += \" in i]\n",
        "c = [i[1].split(\";} //\")[1].replace(\"\\n       if \", \"\") for i in b if \";} //\" in i[1]]\n",
        "toAdd = [int(i[1].split(\"; x = x * FIXED_1\")[0], base=16) for i in b if \"; x = x * FIXED_1\" in i[1]]\n",
        "n = [int(i[0], base=16) for i in b]\n",
        "def getThreshold(index):\n",
        "  thr_val = \"threshold_val{}\".format(str(index))\n",
        "  to_add = \"to_add{}\".format(str(index))\n",
        "  print(\"\\tlet {} = Uint256 {} in\".format(thr_val, str(n[index])))\n",
        "  print(\"\\tlet {} = Uint256 {} in\".format(to_add, str(toAdd[index])))\n",
        "  print(\"let threshold{} = ThresholdAndToAdd {} {} in (* {} *)\".format(str(index), thr_val, to_add, c[index]))\n",
        "print(n)\n",
        "print(c)\n",
        "print(toAdd)\n",
        "for i in range(8):\n",
        "  getThreshold(i)\n",
        "# let l1 = Cons {Int32} one nil in\n",
        "# let l2 = Cons {Int32} two l1 in\n",
        "# let l3 = Cons {Int32} ten l2 in\n",
        "for i in range(1, 8):\n",
        "  prev = i-1\n",
        "  print(\"let l{} = Cons {{ThresholdAndToAdd}} threshold{} l{} in\".format(str(i), str(i), str(prev)))"
      ],
      "execution_count": null,
      "outputs": [
        {
          "output_type": "stream",
          "text": [
            "[280515388193368458015406427511040113880, 218465603988574474844591417643679820199, 192795218841189805222451540510555621025, 181114347027396448854165353426875372712, 175542044379434494067323265867529472979, 172820517236198538127967385733353125282, 171475617301169790829459146906809945753, 170807097224429000759274174605493073715]\n",
            "[' add 1 / 2^1', ' add 1 / 2^2', ' add 1 / 2^3', ' add 1 / 2^4', ' add 1 / 2^5', ' add 1 / 2^6', ' add 1 / 2^7', ' add 1 / 2^8']\n",
            "[85070591730234615865843651857942052864, 42535295865117307932921825928971026432, 21267647932558653966460912964485513216, 10633823966279326983230456482242756608, 5316911983139663491615228241121378304, 2658455991569831745807614120560689152, 1329227995784915872903807060280344576, 664613997892457936451903530140172288]\n",
            "\tlet threshold_val0 = Uint256 280515388193368458015406427511040113880 in\n",
            "\tlet to_add0 = Uint256 85070591730234615865843651857942052864 in\n",
            "let threshold0 = ThresholdAndToAdd threshold_val0 to_add0 in (*  add 1 / 2^1 *)\n",
            "\tlet threshold_val1 = Uint256 218465603988574474844591417643679820199 in\n",
            "\tlet to_add1 = Uint256 42535295865117307932921825928971026432 in\n",
            "let threshold1 = ThresholdAndToAdd threshold_val1 to_add1 in (*  add 1 / 2^2 *)\n",
            "\tlet threshold_val2 = Uint256 192795218841189805222451540510555621025 in\n",
            "\tlet to_add2 = Uint256 21267647932558653966460912964485513216 in\n",
            "let threshold2 = ThresholdAndToAdd threshold_val2 to_add2 in (*  add 1 / 2^3 *)\n",
            "\tlet threshold_val3 = Uint256 181114347027396448854165353426875372712 in\n",
            "\tlet to_add3 = Uint256 10633823966279326983230456482242756608 in\n",
            "let threshold3 = ThresholdAndToAdd threshold_val3 to_add3 in (*  add 1 / 2^4 *)\n",
            "\tlet threshold_val4 = Uint256 175542044379434494067323265867529472979 in\n",
            "\tlet to_add4 = Uint256 5316911983139663491615228241121378304 in\n",
            "let threshold4 = ThresholdAndToAdd threshold_val4 to_add4 in (*  add 1 / 2^5 *)\n",
            "\tlet threshold_val5 = Uint256 172820517236198538127967385733353125282 in\n",
            "\tlet to_add5 = Uint256 2658455991569831745807614120560689152 in\n",
            "let threshold5 = ThresholdAndToAdd threshold_val5 to_add5 in (*  add 1 / 2^6 *)\n",
            "\tlet threshold_val6 = Uint256 171475617301169790829459146906809945753 in\n",
            "\tlet to_add6 = Uint256 1329227995784915872903807060280344576 in\n",
            "let threshold6 = ThresholdAndToAdd threshold_val6 to_add6 in (*  add 1 / 2^7 *)\n",
            "\tlet threshold_val7 = Uint256 170807097224429000759274174605493073715 in\n",
            "\tlet to_add7 = Uint256 664613997892457936451903530140172288 in\n",
            "let threshold7 = ThresholdAndToAdd threshold_val7 to_add7 in (*  add 1 / 2^8 *)\n",
            "let l1 = Cons {ThresholdAndToAdd} threshold1 l0 in\n",
            "let l2 = Cons {ThresholdAndToAdd} threshold2 l1 in\n",
            "let l3 = Cons {ThresholdAndToAdd} threshold3 l2 in\n",
            "let l4 = Cons {ThresholdAndToAdd} threshold4 l3 in\n",
            "let l5 = Cons {ThresholdAndToAdd} threshold5 l4 in\n",
            "let l6 = Cons {ThresholdAndToAdd} threshold6 l5 in\n",
            "let l7 = Cons {ThresholdAndToAdd} threshold7 l6 in\n"
          ],
          "name": "stdout"
        }
      ]
    },
    {
      "cell_type": "markdown",
      "metadata": {
        "id": "n2VLVN0dyXBh"
      },
      "source": [
        "# Generate optimal log part 2"
      ]
    },
    {
      "cell_type": "code",
      "metadata": {
        "colab": {
          "base_uri": "https://localhost:8080/"
        },
        "id": "PEBTmEtHmoFd",
        "outputId": "6e9a8421-ceb2-48b1-87f5-b219f13dde3a"
      },
      "source": [
        "s = \"\"\" \n",
        "        res += z * (0x100000000000000000000000000000000 - y) / 0x100000000000000000000000000000000; z = z * w / FIXED_1; // add y^01 / 01 - y^02 / 02\n",
        "        res += z * (0x0aaaaaaaaaaaaaaaaaaaaaaaaaaaaaaaa - y) / 0x200000000000000000000000000000000; z = z * w / FIXED_1; // add y^03 / 03 - y^04 / 04\n",
        "        res += z * (0x099999999999999999999999999999999 - y) / 0x300000000000000000000000000000000; z = z * w / FIXED_1; // add y^05 / 05 - y^06 / 06\n",
        "        res += z * (0x092492492492492492492492492492492 - y) / 0x400000000000000000000000000000000; z = z * w / FIXED_1; // add y^07 / 07 - y^08 / 08\n",
        "        res += z * (0x08e38e38e38e38e38e38e38e38e38e38e - y) / 0x500000000000000000000000000000000; z = z * w / FIXED_1; // add y^09 / 09 - y^10 / 10\n",
        "        res += z * (0x08ba2e8ba2e8ba2e8ba2e8ba2e8ba2e8b - y) / 0x600000000000000000000000000000000; z = z * w / FIXED_1; // add y^11 / 11 - y^12 / 12\n",
        "        res += z * (0x089d89d89d89d89d89d89d89d89d89d89 - y) / 0x700000000000000000000000000000000; z = z * w / FIXED_1; // add y^13 / 13 - y^14 / 14\n",
        "        res += z * (0x088888888888888888888888888888888 - y) / 0x800000000000000000000000000000000; z = z * w / FIXED_1; // add y^15 / 15 - y^16 / 16\n",
        "        \"\"\"\n",
        "k = [i.strip().split(\"|\") for i in s.strip().replace(\"res += z * (\", \"\").replace(\" - y) / \", \"|\").replace(\"; z = z * w / FIXED_1; // \", \"|\").split(\"\\n\")]\n",
        "index = 1\n",
        "for [numerator, denominator, comment] in k:\n",
        "  numerName = \"numerator{}\".format(str(index))\n",
        "  print(\"\\tlet {} = Uint256 {} in\".format(numerName, str(int(numerator, base=16))))\n",
        "  denomName = \"denominator{}\".format(str(index))\n",
        "  print(\"\\tlet {} = Uint256 {} in\".format(denomName, str(int(denominator, base=16))))\n",
        "  prev = str(index-1)\n",
        "  print(\"let local_res_{} = submuldivadd z{} {} y {} local_res_{} in let z{} = muldiv z{} w FIXED_1 in (* {} *)\".format(str(index),prev, numerName, denomName, prev, str(index),  prev, comment))\n",
        "  index += 1"
      ],
      "execution_count": null,
      "outputs": [
        {
          "output_type": "stream",
          "text": [
            "\tlet numerator1 = Uint256 340282366920938463463374607431768211456 in\n",
            "\tlet denominator1 = Uint256 340282366920938463463374607431768211456 in\n",
            "let local_res_1 = submuldivadd z0 numerator1 y denominator1 local_res_0 in let z1 = muldiv z0 w FIXED_1 in (* add y^01 / 01 - y^02 / 02 *)\n",
            "\tlet numerator2 = Uint256 226854911280625642308916404954512140970 in\n",
            "\tlet denominator2 = Uint256 680564733841876926926749214863536422912 in\n",
            "let local_res_2 = submuldivadd z1 numerator2 y denominator2 local_res_1 in let z2 = muldiv z1 w FIXED_1 in (* add y^03 / 03 - y^04 / 04 *)\n",
            "\tlet numerator3 = Uint256 204169420152563078078024764459060926873 in\n",
            "\tlet denominator3 = Uint256 1020847100762815390390123822295304634368 in\n",
            "let local_res_3 = submuldivadd z2 numerator3 y denominator3 local_res_2 in let z3 = muldiv z2 w FIXED_1 in (* add y^05 / 05 - y^06 / 06 *)\n",
            "\tlet numerator4 = Uint256 194447066811964836264785489961010406546 in\n",
            "\tlet denominator4 = Uint256 1361129467683753853853498429727072845824 in\n",
            "let local_res_4 = submuldivadd z3 numerator4 y denominator4 local_res_3 in let z4 = muldiv z3 w FIXED_1 in (* add y^07 / 07 - y^08 / 08 *)\n",
            "\tlet numerator5 = Uint256 189045759400521368590763670795426784142 in\n",
            "\tlet denominator5 = Uint256 1701411834604692317316873037158841057280 in\n",
            "let local_res_5 = submuldivadd z4 numerator5 y denominator5 local_res_4 in let z5 = muldiv z4 w FIXED_1 in (* add y^09 / 09 - y^10 / 10 *)\n",
            "\tlet numerator6 = Uint256 185608563775057343707295240417328115339 in\n",
            "\tlet denominator6 = Uint256 2041694201525630780780247644590609268736 in\n",
            "let local_res_6 = submuldivadd z5 numerator6 y denominator6 local_res_5 in let z6 = muldiv z5 w FIXED_1 in (* add y^11 / 11 - y^12 / 12 *)\n",
            "\tlet numerator7 = Uint256 183228966803582249557201711694029036937 in\n",
            "\tlet denominator7 = Uint256 2381976568446569244243622252022377480192 in\n",
            "let local_res_7 = submuldivadd z6 numerator7 y denominator7 local_res_6 in let z7 = muldiv z6 w FIXED_1 in (* add y^13 / 13 - y^14 / 14 *)\n",
            "\tlet numerator8 = Uint256 181483929024500513847133123963609712776 in\n",
            "\tlet denominator8 = Uint256 2722258935367507707706996859454145691648 in\n",
            "let local_res_8 = submuldivadd z7 numerator8 y denominator8 local_res_7 in let z8 = muldiv z7 w FIXED_1 in (* add y^15 / 15 - y^16 / 16 *)\n"
          ],
          "name": "stdout"
        }
      ]
    },
    {
      "cell_type": "code",
      "metadata": {
        "id": "9NeCaJI06hhz",
        "colab": {
          "base_uri": "https://localhost:8080/"
        },
        "outputId": "3e0e6cee-ea76-4117-d53a-23926bf0755f"
      },
      "source": [
        "0x100000000000000000000000000000000"
      ],
      "execution_count": null,
      "outputs": [
        {
          "output_type": "execute_result",
          "data": {
            "text/plain": [
              "340282366920938463463374607431768211456"
            ]
          },
          "metadata": {
            "tags": []
          },
          "execution_count": 74
        }
      ]
    },
    {
      "cell_type": "code",
      "metadata": {
        "id": "7XTMR-bqyX0a",
        "colab": {
          "base_uri": "https://localhost:8080/"
        },
        "outputId": "bf2b5df1-20c9-4c9f-99ac-1db772fa4f96"
      },
      "source": [
        "0x5b9de1d10bf4103d647b0955897ba80"
      ],
      "execution_count": null,
      "outputs": [
        {
          "output_type": "execute_result",
          "data": {
            "text/plain": [
              "7611219895485218073587121647846406784"
            ]
          },
          "metadata": {
            "tags": []
          },
          "execution_count": 2
        }
      ]
    },
    {
      "cell_type": "markdown",
      "metadata": {
        "id": "k816RpQNWG0W"
      },
      "source": [
        "# generate floorLog2 loop\n"
      ]
    },
    {
      "cell_type": "code",
      "metadata": {
        "colab": {
          "base_uri": "https://localhost:8080/",
          "height": 188
        },
        "id": "iQRCpNScWFBj",
        "outputId": "607c8c43-aacb-44c3-f41a-330fd14b2ef6"
      },
      "source": [
        "      #  for (uint8 i = MAX_PRECISION; i > 0; --i) {\n",
        "      #       x = (x * x) / FIXED_1; // now 1 < x < 4\n",
        "      #       if (x >= FIXED_2) {\n",
        "      #           x >>= 1; // now 1 < x < 2\n",
        "      #           res += ONE << (i - 1);\n",
        "      #       }\n",
        "      #   }\n",
        "# let MAX_PRECISION = Uint256 127\n",
        "res = \"\"\n",
        "for i in range(1, 128):\n",
        "  prev = str(i-1)\n",
        "  now = str(i)\n",
        "  itemp = \"i_temp{}\".format(now)\n",
        "  res += \" let {} = Uint256 {} in\".format(itemp, now)\n",
        "  res += \" let l{} = Cons {{Uint256}} {} l{} in\".format(now,itemp, prev)\n",
        "res\n"
      ],
      "execution_count": null,
      "outputs": [
        {
          "output_type": "execute_result",
          "data": {
            "application/vnd.google.colaboratory.intrinsic+json": {
              "type": "string"
            },
            "text/plain": [
              "' let i_temp1 = Uint256 1 in let l1 = Cons {Uint256} i_temp1 l0 in let i_temp2 = Uint256 2 in let l2 = Cons {Uint256} i_temp2 l1 in let i_temp3 = Uint256 3 in let l3 = Cons {Uint256} i_temp3 l2 in let i_temp4 = Uint256 4 in let l4 = Cons {Uint256} i_temp4 l3 in let i_temp5 = Uint256 5 in let l5 = Cons {Uint256} i_temp5 l4 in let i_temp6 = Uint256 6 in let l6 = Cons {Uint256} i_temp6 l5 in let i_temp7 = Uint256 7 in let l7 = Cons {Uint256} i_temp7 l6 in let i_temp8 = Uint256 8 in let l8 = Cons {Uint256} i_temp8 l7 in let i_temp9 = Uint256 9 in let l9 = Cons {Uint256} i_temp9 l8 in let i_temp10 = Uint256 10 in let l10 = Cons {Uint256} i_temp10 l9 in let i_temp11 = Uint256 11 in let l11 = Cons {Uint256} i_temp11 l10 in let i_temp12 = Uint256 12 in let l12 = Cons {Uint256} i_temp12 l11 in let i_temp13 = Uint256 13 in let l13 = Cons {Uint256} i_temp13 l12 in let i_temp14 = Uint256 14 in let l14 = Cons {Uint256} i_temp14 l13 in let i_temp15 = Uint256 15 in let l15 = Cons {Uint256} i_temp15 l14 in let i_temp16 = Uint256 16 in let l16 = Cons {Uint256} i_temp16 l15 in let i_temp17 = Uint256 17 in let l17 = Cons {Uint256} i_temp17 l16 in let i_temp18 = Uint256 18 in let l18 = Cons {Uint256} i_temp18 l17 in let i_temp19 = Uint256 19 in let l19 = Cons {Uint256} i_temp19 l18 in let i_temp20 = Uint256 20 in let l20 = Cons {Uint256} i_temp20 l19 in let i_temp21 = Uint256 21 in let l21 = Cons {Uint256} i_temp21 l20 in let i_temp22 = Uint256 22 in let l22 = Cons {Uint256} i_temp22 l21 in let i_temp23 = Uint256 23 in let l23 = Cons {Uint256} i_temp23 l22 in let i_temp24 = Uint256 24 in let l24 = Cons {Uint256} i_temp24 l23 in let i_temp25 = Uint256 25 in let l25 = Cons {Uint256} i_temp25 l24 in let i_temp26 = Uint256 26 in let l26 = Cons {Uint256} i_temp26 l25 in let i_temp27 = Uint256 27 in let l27 = Cons {Uint256} i_temp27 l26 in let i_temp28 = Uint256 28 in let l28 = Cons {Uint256} i_temp28 l27 in let i_temp29 = Uint256 29 in let l29 = Cons {Uint256} i_temp29 l28 in let i_temp30 = Uint256 30 in let l30 = Cons {Uint256} i_temp30 l29 in let i_temp31 = Uint256 31 in let l31 = Cons {Uint256} i_temp31 l30 in let i_temp32 = Uint256 32 in let l32 = Cons {Uint256} i_temp32 l31 in let i_temp33 = Uint256 33 in let l33 = Cons {Uint256} i_temp33 l32 in let i_temp34 = Uint256 34 in let l34 = Cons {Uint256} i_temp34 l33 in let i_temp35 = Uint256 35 in let l35 = Cons {Uint256} i_temp35 l34 in let i_temp36 = Uint256 36 in let l36 = Cons {Uint256} i_temp36 l35 in let i_temp37 = Uint256 37 in let l37 = Cons {Uint256} i_temp37 l36 in let i_temp38 = Uint256 38 in let l38 = Cons {Uint256} i_temp38 l37 in let i_temp39 = Uint256 39 in let l39 = Cons {Uint256} i_temp39 l38 in let i_temp40 = Uint256 40 in let l40 = Cons {Uint256} i_temp40 l39 in let i_temp41 = Uint256 41 in let l41 = Cons {Uint256} i_temp41 l40 in let i_temp42 = Uint256 42 in let l42 = Cons {Uint256} i_temp42 l41 in let i_temp43 = Uint256 43 in let l43 = Cons {Uint256} i_temp43 l42 in let i_temp44 = Uint256 44 in let l44 = Cons {Uint256} i_temp44 l43 in let i_temp45 = Uint256 45 in let l45 = Cons {Uint256} i_temp45 l44 in let i_temp46 = Uint256 46 in let l46 = Cons {Uint256} i_temp46 l45 in let i_temp47 = Uint256 47 in let l47 = Cons {Uint256} i_temp47 l46 in let i_temp48 = Uint256 48 in let l48 = Cons {Uint256} i_temp48 l47 in let i_temp49 = Uint256 49 in let l49 = Cons {Uint256} i_temp49 l48 in let i_temp50 = Uint256 50 in let l50 = Cons {Uint256} i_temp50 l49 in let i_temp51 = Uint256 51 in let l51 = Cons {Uint256} i_temp51 l50 in let i_temp52 = Uint256 52 in let l52 = Cons {Uint256} i_temp52 l51 in let i_temp53 = Uint256 53 in let l53 = Cons {Uint256} i_temp53 l52 in let i_temp54 = Uint256 54 in let l54 = Cons {Uint256} i_temp54 l53 in let i_temp55 = Uint256 55 in let l55 = Cons {Uint256} i_temp55 l54 in let i_temp56 = Uint256 56 in let l56 = Cons {Uint256} i_temp56 l55 in let i_temp57 = Uint256 57 in let l57 = Cons {Uint256} i_temp57 l56 in let i_temp58 = Uint256 58 in let l58 = Cons {Uint256} i_temp58 l57 in let i_temp59 = Uint256 59 in let l59 = Cons {Uint256} i_temp59 l58 in let i_temp60 = Uint256 60 in let l60 = Cons {Uint256} i_temp60 l59 in let i_temp61 = Uint256 61 in let l61 = Cons {Uint256} i_temp61 l60 in let i_temp62 = Uint256 62 in let l62 = Cons {Uint256} i_temp62 l61 in let i_temp63 = Uint256 63 in let l63 = Cons {Uint256} i_temp63 l62 in let i_temp64 = Uint256 64 in let l64 = Cons {Uint256} i_temp64 l63 in let i_temp65 = Uint256 65 in let l65 = Cons {Uint256} i_temp65 l64 in let i_temp66 = Uint256 66 in let l66 = Cons {Uint256} i_temp66 l65 in let i_temp67 = Uint256 67 in let l67 = Cons {Uint256} i_temp67 l66 in let i_temp68 = Uint256 68 in let l68 = Cons {Uint256} i_temp68 l67 in let i_temp69 = Uint256 69 in let l69 = Cons {Uint256} i_temp69 l68 in let i_temp70 = Uint256 70 in let l70 = Cons {Uint256} i_temp70 l69 in let i_temp71 = Uint256 71 in let l71 = Cons {Uint256} i_temp71 l70 in let i_temp72 = Uint256 72 in let l72 = Cons {Uint256} i_temp72 l71 in let i_temp73 = Uint256 73 in let l73 = Cons {Uint256} i_temp73 l72 in let i_temp74 = Uint256 74 in let l74 = Cons {Uint256} i_temp74 l73 in let i_temp75 = Uint256 75 in let l75 = Cons {Uint256} i_temp75 l74 in let i_temp76 = Uint256 76 in let l76 = Cons {Uint256} i_temp76 l75 in let i_temp77 = Uint256 77 in let l77 = Cons {Uint256} i_temp77 l76 in let i_temp78 = Uint256 78 in let l78 = Cons {Uint256} i_temp78 l77 in let i_temp79 = Uint256 79 in let l79 = Cons {Uint256} i_temp79 l78 in let i_temp80 = Uint256 80 in let l80 = Cons {Uint256} i_temp80 l79 in let i_temp81 = Uint256 81 in let l81 = Cons {Uint256} i_temp81 l80 in let i_temp82 = Uint256 82 in let l82 = Cons {Uint256} i_temp82 l81 in let i_temp83 = Uint256 83 in let l83 = Cons {Uint256} i_temp83 l82 in let i_temp84 = Uint256 84 in let l84 = Cons {Uint256} i_temp84 l83 in let i_temp85 = Uint256 85 in let l85 = Cons {Uint256} i_temp85 l84 in let i_temp86 = Uint256 86 in let l86 = Cons {Uint256} i_temp86 l85 in let i_temp87 = Uint256 87 in let l87 = Cons {Uint256} i_temp87 l86 in let i_temp88 = Uint256 88 in let l88 = Cons {Uint256} i_temp88 l87 in let i_temp89 = Uint256 89 in let l89 = Cons {Uint256} i_temp89 l88 in let i_temp90 = Uint256 90 in let l90 = Cons {Uint256} i_temp90 l89 in let i_temp91 = Uint256 91 in let l91 = Cons {Uint256} i_temp91 l90 in let i_temp92 = Uint256 92 in let l92 = Cons {Uint256} i_temp92 l91 in let i_temp93 = Uint256 93 in let l93 = Cons {Uint256} i_temp93 l92 in let i_temp94 = Uint256 94 in let l94 = Cons {Uint256} i_temp94 l93 in let i_temp95 = Uint256 95 in let l95 = Cons {Uint256} i_temp95 l94 in let i_temp96 = Uint256 96 in let l96 = Cons {Uint256} i_temp96 l95 in let i_temp97 = Uint256 97 in let l97 = Cons {Uint256} i_temp97 l96 in let i_temp98 = Uint256 98 in let l98 = Cons {Uint256} i_temp98 l97 in let i_temp99 = Uint256 99 in let l99 = Cons {Uint256} i_temp99 l98 in let i_temp100 = Uint256 100 in let l100 = Cons {Uint256} i_temp100 l99 in let i_temp101 = Uint256 101 in let l101 = Cons {Uint256} i_temp101 l100 in let i_temp102 = Uint256 102 in let l102 = Cons {Uint256} i_temp102 l101 in let i_temp103 = Uint256 103 in let l103 = Cons {Uint256} i_temp103 l102 in let i_temp104 = Uint256 104 in let l104 = Cons {Uint256} i_temp104 l103 in let i_temp105 = Uint256 105 in let l105 = Cons {Uint256} i_temp105 l104 in let i_temp106 = Uint256 106 in let l106 = Cons {Uint256} i_temp106 l105 in let i_temp107 = Uint256 107 in let l107 = Cons {Uint256} i_temp107 l106 in let i_temp108 = Uint256 108 in let l108 = Cons {Uint256} i_temp108 l107 in let i_temp109 = Uint256 109 in let l109 = Cons {Uint256} i_temp109 l108 in let i_temp110 = Uint256 110 in let l110 = Cons {Uint256} i_temp110 l109 in let i_temp111 = Uint256 111 in let l111 = Cons {Uint256} i_temp111 l110 in let i_temp112 = Uint256 112 in let l112 = Cons {Uint256} i_temp112 l111 in let i_temp113 = Uint256 113 in let l113 = Cons {Uint256} i_temp113 l112 in let i_temp114 = Uint256 114 in let l114 = Cons {Uint256} i_temp114 l113 in let i_temp115 = Uint256 115 in let l115 = Cons {Uint256} i_temp115 l114 in let i_temp116 = Uint256 116 in let l116 = Cons {Uint256} i_temp116 l115 in let i_temp117 = Uint256 117 in let l117 = Cons {Uint256} i_temp117 l116 in let i_temp118 = Uint256 118 in let l118 = Cons {Uint256} i_temp118 l117 in let i_temp119 = Uint256 119 in let l119 = Cons {Uint256} i_temp119 l118 in let i_temp120 = Uint256 120 in let l120 = Cons {Uint256} i_temp120 l119 in let i_temp121 = Uint256 121 in let l121 = Cons {Uint256} i_temp121 l120 in let i_temp122 = Uint256 122 in let l122 = Cons {Uint256} i_temp122 l121 in let i_temp123 = Uint256 123 in let l123 = Cons {Uint256} i_temp123 l122 in let i_temp124 = Uint256 124 in let l124 = Cons {Uint256} i_temp124 l123 in let i_temp125 = Uint256 125 in let l125 = Cons {Uint256} i_temp125 l124 in let i_temp126 = Uint256 126 in let l126 = Cons {Uint256} i_temp126 l125 in let i_temp127 = Uint256 127 in let l127 = Cons {Uint256} i_temp127 l126 in'"
            ]
          },
          "metadata": {
            "tags": []
          },
          "execution_count": 10
        }
      ]
    },
    {
      "cell_type": "code",
      "metadata": {
        "colab": {
          "base_uri": "https://localhost:8080/"
        },
        "id": "DUaSb1drXFuI",
        "outputId": "951d3362-90be-441e-d4b5-56232380fb19"
      },
      "source": [
        "import math\n",
        "0x10e1b3be415a0000/ math.factorial(20)"
      ],
      "execution_count": null,
      "outputs": [
        {
          "output_type": "execute_result",
          "data": {
            "text/plain": [
              "0.5"
            ]
          },
          "metadata": {
            "tags": []
          },
          "execution_count": 16
        }
      ]
    },
    {
      "cell_type": "code",
      "metadata": {
        "id": "KipWHMu7ldN_"
      },
      "source": [
        "import math\n",
        "\n",
        "def PrintFunctionOptimalExp():\n",
        "  print(\"\"\" \n",
        "(*\n",
        "    Return e ^ (x / FIXED_1) * FIXED_1\n",
        "    Input range: 0 <= x <= OPT_EXP_MAX_VAL - 1\n",
        "    Auto-generated via 'PrintFunctionOptimalExp.py'\n",
        "    Detailed description:\n",
        "    - Rewrite the input as a sum of binary exponents and a single residual r, as small as possible\n",
        "    - The exponentiation of each binary exponent is given (pre-calculated)\n",
        "    - The exponentiation of r is calculated via Taylor series for e^x, where x = r\n",
        "    - The exponentiation of the input is calculated by multiplying the intermediate results above\n",
        "    - For example: e^5.521692859 = e^(4 + 1 + 0.5 + 0.021692859) = e^4 * e^1 * e^0.5 * e^0.021692859\n",
        "*)\n",
        "  \"\"\")\n",
        "  print(\"let optimalExp: Uint256 -> Uint256 = fun(x: Uint256) =>\")\n",
        "  two_pow_minus_three = str(int(\"0x10000000000000000000000000000000\", base=16))\n",
        "  print(\"let res1 = Uint256 0 in\")\n",
        "  print(\"let two_pow_minus_three = {} in\".format(two_pow_minus_three))\n",
        "  print(\"let z1 = builtin rem x two_pow_minus_three in (* get the input modulo 2^(-3) *)\")\n",
        "  print(\"let y = z1 in\")\n",
        "  fac20 = math.factorial(20)\n",
        "  for fac in range(2, 21):\n",
        "    #  z = z * y / FIXED_1; res += z * 0x10e1b3be415a0000; // add y^02 * (20! / 02!)\n",
        "    prev = str(fac-1)\n",
        "    now = str(fac)\n",
        "    fac20_over_cur = fac20 // math.factorial(fac)\n",
        "    print(\"let z{} = muldiv z{} y FIXED_1 in let tmp{} = Uint256 {} in let res{} = muladd z{} tmp{} res{} in (* add y^{} * (20! / {}!) *)\".format(now, prev, now, str(fac20_over_cur), now, now, now, prev, now, now))\n",
        "  print(\"let y_add_fixed_1 = builtin add y FIXED_1 in\")\n",
        "  print(\"let fac20 = Uint256 {} in\".format(str(fac20)))\n",
        "  print(\"let res_div_fac_20 = builtin div res20 fac20 in\")\n",
        "  print(\"let res21 = builtin add res_div_fac_20 y_add_fixed_1 in (*  divide by 20! and then add y^1 / 1! + y^0 / 0 *)\")\n",
        "\n",
        "  print(\"\"\" \n",
        "(* ex:  if ((x & 0x010000000000000000000000000000000) != 0) res = res * 0x1c3d6a24ed82218787d624d3e5eba95f9 / 0x18ebef9eac820ae8682b9793ac6d1e776;  *)\n",
        "let if_contains_muldiv: Uint256 -> Uint256 -> Uint256 -> Uint256 -> Uint256 -> Uint256 =\n",
        "  fun(local_x: Uint256) => fun(bits: Uint256) => fun(res: Uint256) => fun(numerator: Uint256) => fun(denominator: Uint256) =>\n",
        "  let one = Uint256 1 in\n",
        "  let bits_plus_one = builtin add bits one in \n",
        "  let x_mod_condition = builtin rem local_x bits_plus_one in\n",
        "  let two_pow_bits = builtin pow two_uint256 bits in\n",
        "  let modded_div_bits = builtin div x_mod_condition two_pow_bits in\n",
        "  let x_not_contains = builtin eq zero_uint256 modded_div_bits in\n",
        "  match x_not_contains with\n",
        "  | True => res\n",
        "  | False => muldiv res numerator denominator\n",
        "  end in\n",
        "  \"\"\")\n",
        "\n",
        "  # if ((x & 0x010000000000000000000000000000000) != 0) res = res * 0x1c3d6a24ed82218787d624d3e5eba95f9 / 0x18ebef9eac820ae8682b9793ac6d1e776; // multiply by e^2^(-3)\n",
        "  # if ((x & 0x020000000000000000000000000000000) != 0) res = res * 0x18ebef9eac820ae8682b9793ac6d1e778 / 0x1368b2fc6f9609fe7aceb46aa619baed4; // multiply by e^2^(-2)\n",
        "  # if ((x & 0x040000000000000000000000000000000) != 0) res = res * 0x1368b2fc6f9609fe7aceb46aa619baed5 / 0x0bc5ab1b16779be3575bd8f0520a9f21f; // multiply by e^2^(-1)\n",
        "  # if ((x & 0x080000000000000000000000000000000) != 0) res = res * 0x0bc5ab1b16779be3575bd8f0520a9f21e / 0x0454aaa8efe072e7f6ddbab84b40a55c9; // multiply by e^2^(+0)\n",
        "  # if ((x & 0x100000000000000000000000000000000) != 0) res = res * 0x0454aaa8efe072e7f6ddbab84b40a55c5 / 0x00960aadc109e7a3bf4578099615711ea; // multiply by e^2^(+1)\n",
        "  # if ((x & 0x200000000000000000000000000000000) != 0) res = res * 0x00960aadc109e7a3bf4578099615711d7 / 0x0002bf84208204f5977f9a8cf01fdce3d; // multiply by e^2^(+2)\n",
        "  # if ((x & 0x400000000000000000000000000000000) != 0) res = res * 0x0002bf84208204f5977f9a8cf01fdc307 / 0x0000003c6ab775dd0b95b4cbee7e65d11; // multiply by e^2^(+3)\n",
        "  def get_e_pow_2_pow(two_exponent):\n",
        "    import fractions\n",
        "    frac = fractions.Fraction(math.pow(math.e, math.pow(2, two_exponent)))\n",
        "    #print(\"FRAC\", str(frac.numerator), str(frac.denominator))\n",
        "    return ([frac.numerator, frac.denominator])\n",
        "  # [num, denom] = get_e_pow_2_pow(-3)\n",
        "\n",
        "  resIndex = 22\n",
        "  two_exponent = -3\n",
        "  for bits in range(124, 131):\n",
        "    prev = str(resIndex-1)\n",
        "    print(\"(* if bit {} set then multiply by e^2^({})*)\".format(str(bits), str(two_exponent)))\n",
        "    [num, denom] = get_e_pow_2_pow(two_exponent)\n",
        "    print(\"let res{} = let bits = Uint256 {} in let numerator = Uint256 {} in let denominator = Uint256 {} in if_contains_muldiv x bits res{} numerator denominator in\".format(str(resIndex), str(bits), str(num), str(denom), prev))\n",
        "    resIndex += 1\n",
        "    two_exponent += 1\n",
        "\n",
        "  #finally\n",
        "  print(\"res28\")\n",
        "\n",
        "\n",
        "PrintFunctionOptimalExp()"
      ],
      "execution_count": null,
      "outputs": []
    },
    {
      "cell_type": "code",
      "metadata": {
        "colab": {
          "base_uri": "https://localhost:8080/"
        },
        "id": "fIxpDgQLKfZS",
        "outputId": "8ef1770f-dc2b-45a4-cb4a-540227b3ca3b"
      },
      "source": [
        "import math\n",
        "# FRAC 5103246950987213 4503599627370496\n",
        "# FRAC 2891368194064579 2251799813685248\n",
        "# FRAC 1856295125090727 1125899906842624\n",
        "# FRAC 6121026514868073 2251799813685248\n",
        "# FRAC 8319337573440941 1125899906842624\n",
        "# FRAC 7684006504512087 140737488355328\n",
        "# FRAC 6555195937328235 2199023255552\n",
        "s=\"\"\"        if ((x & 0x010000000000000000000000000000000) != 0) res = res * 0x1c3d6a24ed82218787d624d3e5eba95f9 / 0x18ebef9eac820ae8682b9793ac6d1e776; // multiply by e^2^(-3)\n",
        "        if ((x & 0x020000000000000000000000000000000) != 0) res = res * 0x18ebef9eac820ae8682b9793ac6d1e778 / 0x1368b2fc6f9609fe7aceb46aa619baed4; // multiply by e^2^(-2)\n",
        "        if ((x & 0x040000000000000000000000000000000) != 0) res = res * 0x1368b2fc6f9609fe7aceb46aa619baed5 / 0x0bc5ab1b16779be3575bd8f0520a9f21f; // multiply by e^2^(-1)\n",
        "        if ((x & 0x080000000000000000000000000000000) != 0) res = res * 0x0bc5ab1b16779be3575bd8f0520a9f21e / 0x0454aaa8efe072e7f6ddbab84b40a55c9; // multiply by e^2^(+0)\n",
        "        if ((x & 0x100000000000000000000000000000000) != 0) res = res * 0x0454aaa8efe072e7f6ddbab84b40a55c5 / 0x00960aadc109e7a3bf4578099615711ea; // multiply by e^2^(+1)\n",
        "        if ((x & 0x200000000000000000000000000000000) != 0) res = res * 0x00960aadc109e7a3bf4578099615711d7 / 0x0002bf84208204f5977f9a8cf01fdce3d; // multiply by e^2^(+2)\n",
        "        if ((x & 0x400000000000000000000000000000000) != 0) res = res * 0x0002bf84208204f5977f9a8cf01fdc307 / 0x0000003c6ab775dd0b95b4cbee7e65d11; // multiply by e^2^(+3)\"\"\"\n",
        "b = [ i.split(\" / \") for i in s.strip().replace(\"; //\", \"||\").replace(\"res = res * \", \"||\").split(\"||\") if \" / 0x\" in i]\n",
        "for [num, denom] in b:\n",
        "  print(\"FRAC\", str(int(num, base=16)), str(int(denom, base=16)))\n",
        "# print(600596269623765960634066700837880239609/530024347646835984032474664511850276726)\n",
        "# print(5103246950987213/4503599627370496)\n",
        "print(math.log(600596269623765960634066700837880239609), math.log(530024347646835984032474664511850276726))\n",
        "print(math.log2(FIXED_1))\n",
        "print(math.log2(5103246950987213), math.log2((4503599627370496)))\n",
        "# print(0x010000000000000000000000000000000 == math.pow(2, 124))\n",
        "# print(0x400000000000000000000000000000000 == math.pow(2, 130))"
      ],
      "execution_count": null,
      "outputs": [
        {
          "output_type": "stream",
          "text": [
            "FRAC 600596269623765960634066700837880239609 530024347646835984032474664511850276726\n",
            "FRAC 530024347646835984032474664511850276728 412783376994266390547521411024565284564\n",
            "FRAC 412783376994266390547521411024565284565 250365773966741064234501452596301656607\n",
            "FRAC 250365773966741064234501452596301656606 92104421015340344839251721785254237641\n",
            "FRAC 92104421015340344839251721785254237637 12464977905455307901915658421775307242\n",
            "FRAC 12464977905455307901915658421775307223 228304034072369565894155946646425149\n",
            "FRAC 228304034072369565894155946646422279 76587471230661696290698490699025\n",
            "89.29098629223294 89.16598629223294\n",
            "127.0\n",
            "52.18033688011112 52.0\n"
          ],
          "name": "stdout"
        }
      ]
    },
    {
      "cell_type": "code",
      "metadata": {
        "colab": {
          "base_uri": "https://localhost:8080/"
        },
        "id": "O7xMXtw7mAZn",
        "outputId": "0fcb8838-97a5-45f0-a09e-4730e63e4700"
      },
      "source": [
        "import math\n",
        "import fractions\n",
        "FIXED_1 = 0x080000000000000000000000000000000\n",
        "\n",
        "def get_e_pow_2_pow(two_exponent):\n",
        "  frac = fractions.Fraction(math.pow(math.e, math.pow(2, two_exponent)))\n",
        "  return [[frac.numerator, frac.denominator])\n",
        "[num, denom] = get_e_pow_2_pow(-3)\n",
        "print(math.log2(0x010000000000000000000000000000000))\n",
        "print(math.log2(0x020000000000000000000000000000000))\n",
        "print(math.log2(0x400000000000000000000000000000000))\n",
        "print(math.log(0x1c3d6a24ed82218787d624d3e5eba95f9 / 0x18ebef9eac820ae8682b9793ac6d1e776))\n",
        "frac = fractions.Fraction(math.pow(math.e, math.pow(2, -3)))\n",
        "frac2 = fractions.Fraction(0x1c3d6a24ed82218787d624d3e5eba95f9 / 0x18ebef9eac820ae8682b9793ac6d1e776)\n",
        "print(frac2)\n",
        "print(get_e_pow_2_pow(-3))\n",
        "print(frac)\n",
        "print(math.log(frac))\n",
        "print(math.log(math.pow(math.e, math.pow(2, -3))))"
      ],
      "execution_count": null,
      "outputs": [
        {
          "output_type": "stream",
          "text": [
            "124.0\n",
            "125.0\n",
            "130.0\n",
            "0.125\n",
            "5103246950987213/4503599627370496\n",
            "[5103246950987213, 4503599627370496]\n",
            "5103246950987213/4503599627370496\n",
            "0.125\n",
            "0.125\n"
          ],
          "name": "stdout"
        }
      ]
    },
    {
      "cell_type": "code",
      "metadata": {
        "id": "mtRjN-Mw5ZZS"
      },
      "source": [
        "def PrintFindPositionInMaxExpArray():\n",
        "    #  /**\n",
        "    #     The global \"maxExpArray\" is sorted in descending order, and therefore the following statements are equivalent:\n",
        "    #     - This function finds the position of [the smallest value in \"maxExpArray\" larger than or equal to \"x\"]\n",
        "    #     - This function finds the highest position of [a value in \"maxExpArray\" larger than or equal to \"x\"]\n",
        "    # */\n",
        "    #   function findPositionInMaxExpArray(uint256 _x) internal view returns (uint8) {\n",
        "    #     uint8 lo = MIN_PRECISION;\n",
        "    #     uint8 hi = MAX_PRECISION;\n",
        "\n",
        "    #     while (lo + 1 < hi) {\n",
        "    #         uint8 mid = (lo + hi) / 2;\n",
        "    #         if (maxExpArray[mid] >= _x)\n",
        "    #             lo = mid;\n",
        "    #         else\n",
        "    #             hi = mid;\n",
        "    #     }\n",
        "\n",
        "    #     if (maxExpArray[hi] >= _x)\n",
        "    #         return hi;\n",
        "    #     if (maxExpArray[lo] >= _x)\n",
        "    #         return lo;\n",
        "\n",
        "    #     require(false);\n",
        "    #     return 0;\n",
        "    # }\n",
        "  bancor_s = \"\"\"\n",
        "      maxExpArray[ 32] = 0x1c35fedd14ffffffffffffffffffffffff;\n",
        "        maxExpArray[ 33] = 0x1b0ce43b323fffffffffffffffffffffff;\n",
        "        maxExpArray[ 34] = 0x19f0028ec1ffffffffffffffffffffffff;\n",
        "        maxExpArray[ 35] = 0x18ded91f0e7fffffffffffffffffffffff;\n",
        "        maxExpArray[ 36] = 0x17d8ec7f0417ffffffffffffffffffffff;\n",
        "        maxExpArray[ 37] = 0x16ddc6556cdbffffffffffffffffffffff;\n",
        "        maxExpArray[ 38] = 0x15ecf52776a1ffffffffffffffffffffff;\n",
        "        maxExpArray[ 39] = 0x15060c256cb2ffffffffffffffffffffff;\n",
        "        maxExpArray[ 40] = 0x1428a2f98d72ffffffffffffffffffffff;\n",
        "        maxExpArray[ 41] = 0x13545598e5c23fffffffffffffffffffff;\n",
        "        maxExpArray[ 42] = 0x1288c4161ce1dfffffffffffffffffffff;\n",
        "        maxExpArray[ 43] = 0x11c592761c666fffffffffffffffffffff;\n",
        "        maxExpArray[ 44] = 0x110a688680a757ffffffffffffffffffff;\n",
        "        maxExpArray[ 45] = 0x1056f1b5bedf77ffffffffffffffffffff;\n",
        "        maxExpArray[ 46] = 0x0faadceceeff8bffffffffffffffffffff;\n",
        "        maxExpArray[ 47] = 0x0f05dc6b27edadffffffffffffffffffff;\n",
        "        maxExpArray[ 48] = 0x0e67a5a25da4107fffffffffffffffffff;\n",
        "        maxExpArray[ 49] = 0x0dcff115b14eedffffffffffffffffffff;\n",
        "        maxExpArray[ 50] = 0x0d3e7a392431239fffffffffffffffffff;\n",
        "        maxExpArray[ 51] = 0x0cb2ff529eb71e4fffffffffffffffffff;\n",
        "        maxExpArray[ 52] = 0x0c2d415c3db974afffffffffffffffffff;\n",
        "        maxExpArray[ 53] = 0x0bad03e7d883f69bffffffffffffffffff;\n",
        "        maxExpArray[ 54] = 0x0b320d03b2c343d5ffffffffffffffffff;\n",
        "        maxExpArray[ 55] = 0x0abc25204e02828dffffffffffffffffff;\n",
        "        maxExpArray[ 56] = 0x0a4b16f74ee4bb207fffffffffffffffff;\n",
        "        maxExpArray[ 57] = 0x09deaf736ac1f569ffffffffffffffffff;\n",
        "        maxExpArray[ 58] = 0x0976bd9952c7aa957fffffffffffffffff;\n",
        "        maxExpArray[ 59] = 0x09131271922eaa606fffffffffffffffff;\n",
        "        maxExpArray[ 60] = 0x08b380f3558668c46fffffffffffffffff;\n",
        "        maxExpArray[ 61] = 0x0857ddf0117efa215bffffffffffffffff;\n",
        "        maxExpArray[ 62] = 0x07ffffffffffffffffffffffffffffffff;\n",
        "        maxExpArray[ 63] = 0x07abbf6f6abb9d087fffffffffffffffff;\n",
        "        maxExpArray[ 64] = 0x075af62cbac95f7dfa7fffffffffffffff;\n",
        "        maxExpArray[ 65] = 0x070d7fb7452e187ac13fffffffffffffff;\n",
        "        maxExpArray[ 66] = 0x06c3390ecc8af379295fffffffffffffff;\n",
        "        maxExpArray[ 67] = 0x067c00a3b07ffc01fd6fffffffffffffff;\n",
        "        maxExpArray[ 68] = 0x0637b647c39cbb9d3d27ffffffffffffff;\n",
        "        maxExpArray[ 69] = 0x05f63b1fc104dbd39587ffffffffffffff;\n",
        "        maxExpArray[ 70] = 0x05b771955b36e12f7235ffffffffffffff;\n",
        "        maxExpArray[ 71] = 0x057b3d49dda84556d6f6ffffffffffffff;\n",
        "        maxExpArray[ 72] = 0x054183095b2c8ececf30ffffffffffffff;\n",
        "        maxExpArray[ 73] = 0x050a28be635ca2b888f77fffffffffffff;\n",
        "        maxExpArray[ 74] = 0x04d5156639708c9db33c3fffffffffffff;\n",
        "        maxExpArray[ 75] = 0x04a23105873875bd52dfdfffffffffffff;\n",
        "        maxExpArray[ 76] = 0x0471649d87199aa990756fffffffffffff;\n",
        "        maxExpArray[ 77] = 0x04429a21a029d4c1457cfbffffffffffff;\n",
        "        maxExpArray[ 78] = 0x0415bc6d6fb7dd71af2cb3ffffffffffff;\n",
        "        maxExpArray[ 79] = 0x03eab73b3bbfe282243ce1ffffffffffff;\n",
        "        maxExpArray[ 80] = 0x03c1771ac9fb6b4c18e229ffffffffffff;\n",
        "        maxExpArray[ 81] = 0x0399e96897690418f785257fffffffffff;\n",
        "        maxExpArray[ 82] = 0x0373fc456c53bb779bf0ea9fffffffffff;\n",
        "        maxExpArray[ 83] = 0x034f9e8e490c48e67e6ab8bfffffffffff;\n",
        "        maxExpArray[ 84] = 0x032cbfd4a7adc790560b3337ffffffffff;\n",
        "        maxExpArray[ 85] = 0x030b50570f6e5d2acca94613ffffffffff;\n",
        "        maxExpArray[ 86] = 0x02eb40f9f620fda6b56c2861ffffffffff;\n",
        "        maxExpArray[ 87] = 0x02cc8340ecb0d0f520a6af58ffffffffff;\n",
        "        maxExpArray[ 88] = 0x02af09481380a0a35cf1ba02ffffffffff;\n",
        "        maxExpArray[ 89] = 0x0292c5bdd3b92ec810287b1b3fffffffff;\n",
        "        maxExpArray[ 90] = 0x0277abdcdab07d5a77ac6d6b9fffffffff;\n",
        "        maxExpArray[ 91] = 0x025daf6654b1eaa55fd64df5efffffffff;\n",
        "        maxExpArray[ 92] = 0x0244c49c648baa98192dce88b7ffffffff;\n",
        "        maxExpArray[ 93] = 0x022ce03cd5619a311b2471268bffffffff;\n",
        "        maxExpArray[ 94] = 0x0215f77c045fbe885654a44a0fffffffff;\n",
        "        maxExpArray[ 95] = 0x01ffffffffffffffffffffffffffffffff;\n",
        "        maxExpArray[ 96] = 0x01eaefdbdaaee7421fc4d3ede5ffffffff;\n",
        "        maxExpArray[ 97] = 0x01d6bd8b2eb257df7e8ca57b09bfffffff;\n",
        "        maxExpArray[ 98] = 0x01c35fedd14b861eb0443f7f133fffffff;\n",
        "        maxExpArray[ 99] = 0x01b0ce43b322bcde4a56e8ada5afffffff;\n",
        "        maxExpArray[100] = 0x019f0028ec1fff007f5a195a39dfffffff;\n",
        "        maxExpArray[101] = 0x018ded91f0e72ee74f49b15ba527ffffff;\n",
        "        maxExpArray[102] = 0x017d8ec7f04136f4e5615fd41a63ffffff;\n",
        "        maxExpArray[103] = 0x016ddc6556cdb84bdc8d12d22e6fffffff;\n",
        "        maxExpArray[104] = 0x015ecf52776a1155b5bd8395814f7fffff;\n",
        "        maxExpArray[105] = 0x015060c256cb23b3b3cc3754cf40ffffff;\n",
        "        maxExpArray[106] = 0x01428a2f98d728ae223ddab715be3fffff;\n",
        "        maxExpArray[107] = 0x013545598e5c23276ccf0ede68034fffff;\n",
        "        maxExpArray[108] = 0x01288c4161ce1d6f54b7f61081194fffff;\n",
        "        maxExpArray[109] = 0x011c592761c666aa641d5a01a40f17ffff;\n",
        "        maxExpArray[110] = 0x0110a688680a7530515f3e6e6cfdcdffff;\n",
        "        maxExpArray[111] = 0x01056f1b5bedf75c6bcb2ce8aed428ffff;\n",
        "        maxExpArray[112] = 0x00faadceceeff8a0890f3875f008277fff;\n",
        "        maxExpArray[113] = 0x00f05dc6b27edad306388a600f6ba0bfff;\n",
        "        maxExpArray[114] = 0x00e67a5a25da41063de1495d5b18cdbfff;\n",
        "        maxExpArray[115] = 0x00dcff115b14eedde6fc3aa5353f2e4fff;\n",
        "        maxExpArray[116] = 0x00d3e7a3924312399f9aae2e0f868f8fff;\n",
        "        maxExpArray[117] = 0x00cb2ff529eb71e41582cccd5a1ee26fff;\n",
        "        maxExpArray[118] = 0x00c2d415c3db974ab32a51840c0b67edff;\n",
        "        maxExpArray[119] = 0x00bad03e7d883f69ad5b0a186184e06bff;\n",
        "        maxExpArray[120] = 0x00b320d03b2c343d4829abd6075f0cc5ff;\n",
        "        maxExpArray[121] = 0x00abc25204e02828d73c6e80bcdb1a95bf;\n",
        "        maxExpArray[122] = 0x00a4b16f74ee4bb2040a1ec6c15fbbf2df;\n",
        "        maxExpArray[123] = 0x009deaf736ac1f569deb1b5ae3f36c130f;\n",
        "        maxExpArray[124] = 0x00976bd9952c7aa957f5937d790ef65037;\n",
        "        maxExpArray[125] = 0x009131271922eaa6064b73a22d0bd4f2bf;\n",
        "        maxExpArray[126] = 0x008b380f3558668c46c91c49a2f8e967b9;\n",
        "        maxExpArray[127] = 0x00857ddf0117efa215952912839f6473e6;\n",
        "  \"\"\"\n",
        "  clean = bancor_s.strip().replace(\";\", \"\").replace(\" = \", \"|\")\n",
        "  numbers = [i.split(\"\\n\")[0] for i in clean.split(\"|\") if \"0x\" in i]\n",
        "  # print(numbers)\n",
        "\n",
        "  print(\"\"\" \n",
        "(*\n",
        "    The \"maxExpArray\" is sorted in descending order, and therefore the following statements are equivalent:\n",
        "    - This function finds the position of [the smallest value in \"maxExpArray\" larger than or equal to \"x\"]\n",
        "    - This function finds the highest position of [a value in \"maxExpArray\" larger than or equal to \"x\"]\n",
        "*)\"\"\")\n",
        "  print(\"let findPositionInMaxExpArray: Uint256 -> Uint256 = fun(x: Uint256) =>\")\n",
        "  print(\"type PrecisionAndMax = | PrecisionAndMax of Uint256 Uint256 in\")\n",
        "  print(\"let res31 = PrecisionAndMax 0 0 in\")\n",
        "\n",
        "  print(\"let setNewIfXSmaller: PrecisionAndMax -> Uint256 -> Uint256 -> PrecisionAndMax =\")\n",
        "  print(\" fun(prev: PrecisionAndMax) => fun(arrIndex: Uint256) => fun(val: Uint256) =>\")\n",
        "  print(\" let x_lt_val = uint256_lt x val in\")\n",
        "  print(\" match x_lt_val with | True => PrecisionAndMax arrIndex val | False => prev end in\")\n",
        "\n",
        "  precision_bias = 32\n",
        "  for i in range(96):\n",
        "    maxExpArrayIndex = i + precision_bias\n",
        "    prev = str(maxExpArrayIndex - 1)\n",
        "    print(\"\\tlet res{} = let arrIndex = Uint256 {} in let val = Uint256 {} in setNewIfXSmaller res{} arrIndex val in\".format(str(maxExpArrayIndex), str(maxExpArrayIndex), str(int(str(numbers[i]),base=16)), prev))\n",
        "  print(\"match res127 with | PrecisionAndMax precision max =>\")\n",
        "  print(\"let precision_is_zero = builtin eq zero_uint256 precision in\")\n",
        "  print(\"match precision_is_zero with\")\n",
        "  print(\"| True => (* means that x is bigger than the biggest number permitted *) panic zero_uint25\")\n",
        "  print(\"| False => precision\")\n",
        "  print(\"end\")\n",
        "\n",
        "PrintFindPositionInMaxExpArray()"
      ],
      "execution_count": null,
      "outputs": []
    },
    {
      "cell_type": "code",
      "metadata": {
        "colab": {
          "base_uri": "https://localhost:8080/"
        },
        "id": "9ZJ3AWNGA2-3",
        "outputId": "4fe7c49f-30ab-4783-cb76-d67c43ae2cb6"
      },
      "source": [
        "      #  maxExpArray[122] = 0x00a4b16f74ee4bb2040a1ec6c15fbbf2df;\n",
        "      #   maxExpArray[123] = 0x009deaf736ac1f569deb1b5ae3f36c130f;\n",
        "      #   maxExpArray[124] = 0x00976bd9952c7aa957f5937d790ef65037;\n",
        "      #   maxExpArray[125] = 0x009131271922eaa6064b73a22d0bd4f2bf;\n",
        "      #   maxExpArray[126] = 0x008b380f3558668c46c91c49a2f8e967b9;\n",
        "      #   maxExpArray[127] = 0x00857ddf0117efa215952912839f6473e6\n",
        "import math\n",
        "\n",
        "# for i in range(122, 128):\n",
        "#   print(str(i))\n",
        "#   print(hex(int(math.sqrt(math.pow(2, i)))))\n",
        "diff = 0x009deaf736ac1f569deb1b5ae3f36c130f  - 0x00976bd9952c7aa957f5937d790ef65037\n",
        "# print(math.log(0x009deaf736ac1f569deb1b5ae3f36c130f*0x009deaf736ac1f569deb1b5ae3f36c130f))\n",
        "# print(math.log2(0x009deaf736ac1f569deb1b5ae3f36c130f*0x009deaf736ac1f569deb1b5ae3f36c130f))\n",
        "# print(hex(0x6bffffffffffffffffffffffffffffffff))\n",
        "\n",
        "fac = math.factorial(30)\n",
        "\n",
        "maxval = 0x00857ddf0117efa215952912839f6473e6\n",
        "precision = 127\n",
        "MAX_PRECISION = 127\n",
        "\n",
        "x = maxval >> MAX_PRECISION - precision\n",
        "xi = x\n",
        "res = 0\n",
        "\n",
        "def log(_xi, _res):\n",
        "  print(math.log2(_xi))\n",
        "  print(math.log2(_res))\n",
        "\n",
        "fac30 = math.factorial(30)\n",
        "\n",
        "for i in range(2,31):\n",
        "  fac = fac30 // math.factorial(i)\n",
        "  xi = (xi*x) >> precision\n",
        "  res += xi * fac\n",
        "  # log(xi, res)\n",
        "print(math.log(res / fac30 + x + (1 << precision)))\n",
        "print(math.log2(res / fac30 + x + (1 << precision)))\n",
        "# add x^02 * (33! / 02!\n",
        "# add x^33 * (33! / 33!)\n",
        "print(math.log2(inval*inval*fac))\n",
        "print((math.sqrt(inval*inval*fac)))\n",
        "# print([hex(int(math.pow(math.e, i))) for i in range(100, 127)])"
      ],
      "execution_count": null,
      "outputs": [
        {
          "output_type": "stream",
          "text": [
            "89.07259571255945\n",
            "128.50459211361706\n",
            "254.12121212121212\n",
            "1.774408836106883e+38\n"
          ],
          "name": "stdout"
        }
      ]
    },
    {
      "cell_type": "code",
      "metadata": {
        "colab": {
          "base_uri": "https://localhost:8080/"
        },
        "id": "arh6BYKMBJqP",
        "outputId": "255bea16-9280-4e33-bf51-f23732053986"
      },
      "source": [
        "def PrintFunctionGeneralExp():\n",
        "    #   /**\n",
        "    #     This function can be auto-generated by the script 'PrintFunctionGeneralExp.py'.\n",
        "    #     It approximates \"e ^ x\" via maclaurin summation: \"(x^0)/0! + (x^1)/1! + ... + (x^n)/n!\".\n",
        "    #     It returns \"e ^ (x / 2 ^ precision) * 2 ^ precision\", that is, the result is upshifted for accuracy.\n",
        "    #     The global \"maxExpArray\" maps each \"precision\" to \"((maximumExponent + 1) << (MAX_PRECISION - precision)) - 1\".\n",
        "    #     The maximum permitted value for \"x\" is therefore given by \"maxExpArray[precision] >> (MAX_PRECISION - precision)\".\n",
        "    # */\n",
        "    # function generalExp(uint256 _x, uint8 _precision) internal pure returns (uint256) {\n",
        "    #     uint256 xi = _x;\n",
        "    #     uint256 res = 0;\n",
        "\n",
        "    #     xi = (xi * _x) >> _precision; res += xi * 0x3442c4e6074a82f1797f72ac0000000; // add x^02 * (33! / 02!)\n",
        "    #     xi = (xi * _x) >> _precision; res += xi * 0x116b96f757c380fb287fd0e40000000; // add x^03 * (33! / 03!)\n",
        "    #     xi = (xi * _x) >> _precision; res += xi * 0x045ae5bdd5f0e03eca1ff4390000000; // add x^04 * (33! / 04!)\n",
        "    #     xi = (xi * _x) >> _precision; res += xi * 0x00defabf91302cd95b9ffda50000000; // add x^05 * (33! / 05!)\n",
        "    #     xi = (xi * _x) >> _precision; res += xi * 0x002529ca9832b22439efff9b8000000; // add x^06 * (33! / 06!)\n",
        "    #     xi = (xi * _x) >> _precision; res += xi * 0x00054f1cf12bd04e516b6da88000000; // add x^07 * (33! / 07!)\n",
        "    #     xi = (xi * _x) >> _precision; res += xi * 0x0000a9e39e257a09ca2d6db51000000; // add x^08 * (33! / 08!)\n",
        "    #     xi = (xi * _x) >> _precision; res += xi * 0x000012e066e7b839fa050c309000000; // add x^09 * (33! / 09!)\n",
        "    #     xi = (xi * _x) >> _precision; res += xi * 0x000001e33d7d926c329a1ad1a800000; // add x^10 * (33! / 10!)\n",
        "    #     xi = (xi * _x) >> _precision; res += xi * 0x0000002bee513bdb4a6b19b5f800000; // add x^11 * (33! / 11!)\n",
        "    #     xi = (xi * _x) >> _precision; res += xi * 0x00000003a9316fa79b88eccf2a00000; // add x^12 * (33! / 12!)\n",
        "    #     xi = (xi * _x) >> _precision; res += xi * 0x0000000048177ebe1fa812375200000; // add x^13 * (33! / 13!)\n",
        "    #     xi = (xi * _x) >> _precision; res += xi * 0x0000000005263fe90242dcbacf00000; // add x^14 * (33! / 14!)\n",
        "    #     xi = (xi * _x) >> _precision; res += xi * 0x000000000057e22099c030d94100000; // add x^15 * (33! / 15!)\n",
        "    #     xi = (xi * _x) >> _precision; res += xi * 0x0000000000057e22099c030d9410000; // add x^16 * (33! / 16!)\n",
        "    #     xi = (xi * _x) >> _precision; res += xi * 0x00000000000052b6b54569976310000; // add x^17 * (33! / 17!)\n",
        "    #     xi = (xi * _x) >> _precision; res += xi * 0x00000000000004985f67696bf748000; // add x^18 * (33! / 18!)\n",
        "    #     xi = (xi * _x) >> _precision; res += xi * 0x000000000000003dea12ea99e498000; // add x^19 * (33! / 19!)\n",
        "    #     xi = (xi * _x) >> _precision; res += xi * 0x00000000000000031880f2214b6e000; // add x^20 * (33! / 20!)\n",
        "    #     xi = (xi * _x) >> _precision; res += xi * 0x000000000000000025bcff56eb36000; // add x^21 * (33! / 21!)\n",
        "    #     xi = (xi * _x) >> _precision; res += xi * 0x000000000000000001b722e10ab1000; // add x^22 * (33! / 22!)\n",
        "    #     xi = (xi * _x) >> _precision; res += xi * 0x0000000000000000001317c70077000; // add x^23 * (33! / 23!)\n",
        "    #     xi = (xi * _x) >> _precision; res += xi * 0x00000000000000000000cba84aafa00; // add x^24 * (33! / 24!)\n",
        "    #     xi = (xi * _x) >> _precision; res += xi * 0x00000000000000000000082573a0a00; // add x^25 * (33! / 25!)\n",
        "    #     xi = (xi * _x) >> _precision; res += xi * 0x00000000000000000000005035ad900; // add x^26 * (33! / 26!)\n",
        "    #     xi = (xi * _x) >> _precision; res += xi * 0x000000000000000000000002f881b00; // add x^27 * (33! / 27!)\n",
        "    #     xi = (xi * _x) >> _precision; res += xi * 0x0000000000000000000000001b29340; // add x^28 * (33! / 28!)\n",
        "    #     xi = (xi * _x) >> _precision; res += xi * 0x00000000000000000000000000efc40; // add x^29 * (33! / 29!)\n",
        "    #     xi = (xi * _x) >> _precision; res += xi * 0x0000000000000000000000000007fe0; // add x^30 * (33! / 30!)\n",
        "    #     xi = (xi * _x) >> _precision; res += xi * 0x0000000000000000000000000000420; // add x^31 * (33! / 31!)\n",
        "    #     xi = (xi * _x) >> _precision; res += xi * 0x0000000000000000000000000000021; // add x^32 * (33! / 32!)\n",
        "    #     xi = (xi * _x) >> _precision; res += xi * 0x0000000000000000000000000000001; // add x^33 * (33! / 33!)\n",
        "\n",
        "    #     return res / 0x688589cc0e9505e2f2fee5580000000 + _x + (ONE << _precision); // divide by 33! and then add x^1 / 1! + x^0 / 0!\n",
        "    # }\n",
        "  print(\"\"\" \n",
        "  (*\n",
        "    This function can be auto-generated by the script 'PrintFunctionGeneralExp.py'.\n",
        "    It approximates \"e ^ x\" via maclaurin summation: \"(x^0)/0! + (x^1)/1! + ... + (x^n)/n!\".\n",
        "    It returns \"e ^ (x / 2 ^ precision) * 2 ^ precision\", that is, the result is upshifted for accuracy.\n",
        "    The global \"maxExpArray\" maps each \"precision\" to \"((maximumExponent + 1) << (MAX_PRECISION - precision)) - 1\".\n",
        "    The maximum permitted value for \"x\" is therefore given by \"maxExpArray[precision] >> (MAX_PRECISION - precision)\".\n",
        "  *)\n",
        "    \"\"\")\n",
        "  print(\"let generalExp: Uint256 -> Uint256 -> Uint256 =\")\n",
        "  print(\"fun(x: Uint256) => fun(precision: Uint256) =>\")\n",
        "  print(\"let two_pow_precision = builtin pow two_uint256 precision in\")\n",
        "\n",
        "  import math\n",
        "  fac33 = math.factorial(33)\n",
        "\n",
        "  print(\"let res1 = Uint256 0 in\")\n",
        "  print(\"let xi1 = x in\")\n",
        "  for i in range(2, 34):\n",
        "    prev = str(i - 1)\n",
        "    now = str(i)\n",
        "    fac = fac33 // math.factorial(i)\n",
        "    print(\"\\t(* add x^{} * (33! / {}!) *)\".format(now, now))\n",
        "    print(\"\\tlet xi{} = muldiv xi{} x two_pow_precision in let res{} = let fac = Uint256 {} in muladd xi{} fac res{} in\".format(now, prev, now, str(fac), now, prev))\n",
        "  #return res / 0x688589cc0e9505e2f2fee5580000000 + _x + (ONE << _precision); // divide by 33! and then add x^1 / 1! + x^0 / 0!\n",
        "  print(\"(* divide by 33! and then add x^1 / 1! + x^0 / 0! *)\")\n",
        "  print(\"let fac33 = Uint256 {} in\".format(str(fac33)))\n",
        "  print(\"let res_div_fac33 = builtin div res33 fac33 in\")\n",
        "  print(\"let x_add_two_pow_precision = builtin add x two_pow_precision in\")\n",
        "  print(\"builtin add res_div_fac33 x_add_two_pow_precision\")\n",
        "\n",
        "\n",
        "PrintFunctionGeneralExp()"
      ],
      "execution_count": null,
      "outputs": [
        {
          "output_type": "stream",
          "text": [
            " \n",
            "  (*\n",
            "    This function can be auto-generated by the script 'PrintFunctionGeneralExp.py'.\n",
            "    It approximates \"e ^ x\" via maclaurin summation: \"(x^0)/0! + (x^1)/1! + ... + (x^n)/n!\".\n",
            "    It returns \"e ^ (x / 2 ^ precision) * 2 ^ precision\", that is, the result is upshifted for accuracy.\n",
            "    The global \"maxExpArray\" maps each \"precision\" to \"((maximumExponent + 1) << (MAX_PRECISION - precision)) - 1\".\n",
            "    The maximum permitted value for \"x\" is therefore given by \"maxExpArray[precision] >> (MAX_PRECISION - precision)\".\n",
            "  *)\n",
            "    \n",
            "let generalExp: Uint256 -> Uint256 -> Uint256 =\n",
            "fun(x: Uint256) => fun(precision: Uint256) =>\n",
            "let two_pow_precision = builtin pow two_uint256 precision in\n",
            "let res1 = Uint256 0 in\n",
            "let xi1 = x in\n",
            "\t(* add x^2 * (33! / 2!) *)\n",
            "\tlet xi2 = muldiv xi1 x two_pow_precision in let res2 = let fac = Uint256 4341658809405943247759097200640000000 in muladd xi2 fac res1 in\n",
            "\t(* add x^3 * (33! / 3!) *)\n",
            "\tlet xi3 = muldiv xi2 x two_pow_precision in let res3 = let fac = Uint256 1447219603135314415919699066880000000 in muladd xi3 fac res2 in\n",
            "\t(* add x^4 * (33! / 4!) *)\n",
            "\tlet xi4 = muldiv xi3 x two_pow_precision in let res4 = let fac = Uint256 361804900783828603979924766720000000 in muladd xi4 fac res3 in\n",
            "\t(* add x^5 * (33! / 5!) *)\n",
            "\tlet xi5 = muldiv xi4 x two_pow_precision in let res5 = let fac = Uint256 72360980156765720795984953344000000 in muladd xi5 fac res4 in\n",
            "\t(* add x^6 * (33! / 6!) *)\n",
            "\tlet xi6 = muldiv xi5 x two_pow_precision in let res6 = let fac = Uint256 12060163359460953465997492224000000 in muladd xi6 fac res5 in\n",
            "\t(* add x^7 * (33! / 7!) *)\n",
            "\tlet xi7 = muldiv xi6 x two_pow_precision in let res7 = let fac = Uint256 1722880479922993352285356032000000 in muladd xi7 fac res6 in\n",
            "\t(* add x^8 * (33! / 8!) *)\n",
            "\tlet xi8 = muldiv xi7 x two_pow_precision in let res8 = let fac = Uint256 215360059990374169035669504000000 in muladd xi8 fac res7 in\n",
            "\t(* add x^9 * (33! / 9!) *)\n",
            "\tlet xi9 = muldiv xi8 x two_pow_precision in let res9 = let fac = Uint256 23928895554486018781741056000000 in muladd xi9 fac res8 in\n",
            "\t(* add x^10 * (33! / 10!) *)\n",
            "\tlet xi10 = muldiv xi9 x two_pow_precision in let res10 = let fac = Uint256 2392889555448601878174105600000 in muladd xi10 fac res9 in\n",
            "\t(* add x^11 * (33! / 11!) *)\n",
            "\tlet xi11 = muldiv xi10 x two_pow_precision in let res11 = let fac = Uint256 217535414131691079834009600000 in muladd xi11 fac res10 in\n",
            "\t(* add x^12 * (33! / 12!) *)\n",
            "\tlet xi12 = muldiv xi11 x two_pow_precision in let res12 = let fac = Uint256 18127951177640923319500800000 in muladd xi12 fac res11 in\n",
            "\t(* add x^13 * (33! / 13!) *)\n",
            "\tlet xi13 = muldiv xi12 x two_pow_precision in let res13 = let fac = Uint256 1394457782895455639961600000 in muladd xi13 fac res12 in\n",
            "\t(* add x^14 * (33! / 14!) *)\n",
            "\tlet xi14 = muldiv xi13 x two_pow_precision in let res14 = let fac = Uint256 99604127349675402854400000 in muladd xi14 fac res13 in\n",
            "\t(* add x^15 * (33! / 15!) *)\n",
            "\tlet xi15 = muldiv xi14 x two_pow_precision in let res15 = let fac = Uint256 6640275156645026856960000 in muladd xi15 fac res14 in\n",
            "\t(* add x^16 * (33! / 16!) *)\n",
            "\tlet xi16 = muldiv xi15 x two_pow_precision in let res16 = let fac = Uint256 415017197290314178560000 in muladd xi16 fac res15 in\n",
            "\t(* add x^17 * (33! / 17!) *)\n",
            "\tlet xi17 = muldiv xi16 x two_pow_precision in let res17 = let fac = Uint256 24412776311194951680000 in muladd xi17 fac res16 in\n",
            "\t(* add x^18 * (33! / 18!) *)\n",
            "\tlet xi18 = muldiv xi17 x two_pow_precision in let res18 = let fac = Uint256 1356265350621941760000 in muladd xi18 fac res17 in\n",
            "\t(* add x^19 * (33! / 19!) *)\n",
            "\tlet xi19 = muldiv xi18 x two_pow_precision in let res19 = let fac = Uint256 71382386874839040000 in muladd xi19 fac res18 in\n",
            "\t(* add x^20 * (33! / 20!) *)\n",
            "\tlet xi20 = muldiv xi19 x two_pow_precision in let res20 = let fac = Uint256 3569119343741952000 in muladd xi20 fac res19 in\n",
            "\t(* add x^21 * (33! / 21!) *)\n",
            "\tlet xi21 = muldiv xi20 x two_pow_precision in let res21 = let fac = Uint256 169958063987712000 in muladd xi21 fac res20 in\n",
            "\t(* add x^22 * (33! / 22!) *)\n",
            "\tlet xi22 = muldiv xi21 x two_pow_precision in let res22 = let fac = Uint256 7725366544896000 in muladd xi22 fac res21 in\n",
            "\t(* add x^23 * (33! / 23!) *)\n",
            "\tlet xi23 = muldiv xi22 x two_pow_precision in let res23 = let fac = Uint256 335885501952000 in muladd xi23 fac res22 in\n",
            "\t(* add x^24 * (33! / 24!) *)\n",
            "\tlet xi24 = muldiv xi23 x two_pow_precision in let res24 = let fac = Uint256 13995229248000 in muladd xi24 fac res23 in\n",
            "\t(* add x^25 * (33! / 25!) *)\n",
            "\tlet xi25 = muldiv xi24 x two_pow_precision in let res25 = let fac = Uint256 559809169920 in muladd xi25 fac res24 in\n",
            "\t(* add x^26 * (33! / 26!) *)\n",
            "\tlet xi26 = muldiv xi25 x two_pow_precision in let res26 = let fac = Uint256 21531121920 in muladd xi26 fac res25 in\n",
            "\t(* add x^27 * (33! / 27!) *)\n",
            "\tlet xi27 = muldiv xi26 x two_pow_precision in let res27 = let fac = Uint256 797448960 in muladd xi27 fac res26 in\n",
            "\t(* add x^28 * (33! / 28!) *)\n",
            "\tlet xi28 = muldiv xi27 x two_pow_precision in let res28 = let fac = Uint256 28480320 in muladd xi28 fac res27 in\n",
            "\t(* add x^29 * (33! / 29!) *)\n",
            "\tlet xi29 = muldiv xi28 x two_pow_precision in let res29 = let fac = Uint256 982080 in muladd xi29 fac res28 in\n",
            "\t(* add x^30 * (33! / 30!) *)\n",
            "\tlet xi30 = muldiv xi29 x two_pow_precision in let res30 = let fac = Uint256 32736 in muladd xi30 fac res29 in\n",
            "\t(* add x^31 * (33! / 31!) *)\n",
            "\tlet xi31 = muldiv xi30 x two_pow_precision in let res31 = let fac = Uint256 1056 in muladd xi31 fac res30 in\n",
            "\t(* add x^32 * (33! / 32!) *)\n",
            "\tlet xi32 = muldiv xi31 x two_pow_precision in let res32 = let fac = Uint256 33 in muladd xi32 fac res31 in\n",
            "\t(* add x^33 * (33! / 33!) *)\n",
            "\tlet xi33 = muldiv xi32 x two_pow_precision in let res33 = let fac = Uint256 1 in muladd xi33 fac res32 in\n",
            "(* divide by 33! and then add x^1 / 1! + x^0 / 0! *)\n",
            "let fac33 = Uint256 8683317618811886495518194401280000000 in\n",
            "let res_div_fac33 = builtin div res33 fac33 in\n",
            "let x_add_two_pow_precision = builtin add x two_pow_precision in\n",
            "builtin add res_div_fac33 x_add_two_pow_precision\n"
          ],
          "name": "stdout"
        }
      ]
    },
    {
      "cell_type": "code",
      "metadata": {
        "colab": {
          "base_uri": "https://localhost:8080/"
        },
        "id": "Jp4E9HR2aN-2",
        "outputId": "af618dd3-e93a-47f7-f77a-ad78ad0fe876"
      },
      "source": [
        "# debuging ! yay\n",
        "import math\n",
        "supply = 1000\n",
        "connector_balance = 250\n",
        "connector_weight = 500000\n",
        "deposit_amount = 10\n",
        "FIXED_1 = 170141183460469231731687303715884105728\n",
        "OPT_LOG_MAX_VAL = 46249168727311016857545551792166839753\n",
        "MAX_WEIGHT = 1000000\n",
        "\n",
        "def CalculatePurchaseReturn(supply, connector_balance, connector_weight, deposit_amount):\n",
        "  return math.floor(supply * (math.pow((1 + deposit_amount / connector_balance), (connector_weight / 1000000)) - 1))\n",
        "\n",
        "CalculatePurchaseReturn(supply, connector_balance, connector_weight, deposit_amount)"
      ],
      "execution_count": 6,
      "outputs": [
        {
          "output_type": "execute_result",
          "data": {
            "text/plain": [
              "19"
            ]
          },
          "metadata": {},
          "execution_count": 6
        }
      ]
    },
    {
      "cell_type": "code",
      "metadata": {
        "id": "Ex3hGZieMvBT"
      },
      "source": [
        "import math\n",
        "def CalculateCrossConnectorReturn(_fromConnectorBalance, _fromConnectorWeight, _toConnectorBalance, _toConnectorWeight, _amount):\n",
        "  return int(_toConnectorBalance * (1 - math.pow((_fromConnectorBalance / (_fromConnectorBalance + _amount)),(_fromConnectorWeight / _toConnectorWeight))))\n",
        "\n",
        "# Formula:\n",
        "# Return = _toConnectorBalance * (1 - (_fromConnectorBalance / (_fromConnectorBalance + _amount)) ^ (_fromConnectorWeight / _toConnectorWeight))\n",
        "#param _fromConnectorBalance    input connector balance\n",
        "#param _fromConnectorWeight     input connector weight, represented in ppm, 1-1000000\n",
        "#param _toConnectorBalance      output connector balance\n",
        "#param _toConnectorWeight       output connector weight, represented in ppm, 1-1000000\n",
        "#param _amount                  input connector amount\n",
        "\n",
        "def printTestCase(_fromConnectorBalance, _fromConnectorWeight, _toConnectorBalance, _toConnectorWeight, _amount):\n",
        "  t = [str(i) for i in [_fromConnectorBalance, _fromConnectorWeight, _toConnectorBalance, _toConnectorWeight, _amount, CalculateCrossConnectorReturn(_fromConnectorBalance, _fromConnectorWeight, _toConnectorBalance, _toConnectorWeight, _amount)]]\n",
        "  print(t, \",\")\n",
        "\n",
        "print(\"[\")\n",
        "print(\"//equal weights\")\n",
        "for i in range(0, 1000, 50):\n",
        "  printTestCase((1000), (40), (250), (40), (i))\n",
        "print(\"//different weights\")\n",
        "for i in range(0, 1000, 50):\n",
        "  printTestCase((1000), (12341), (250), (65341), (i))\n",
        "print(\"//zil scaled\")\n",
        "for i in range(0, 400, 50):\n",
        "  printTestCase(zil(561), (12341), zil(435), (65341), zil(i))\n",
        "print(\"//zil scaled other\")\n",
        "for i in range(0, 400, 50):\n",
        "  printTestCase(zil(51234151234), (12341), zil(123451324123), (65341), zil(i))\n",
        "print(\"]\")"
      ],
      "execution_count": null,
      "outputs": []
    },
    {
      "cell_type": "code",
      "metadata": {
        "id": "5tbrtXZ5xrjB"
      },
      "source": [
        "def CalculateSaleReturn(s, cb, cw, sa):\n",
        "  return math.floor(cb * (1 - math.pow((1 - sa / s), (1 / (cw / 1000000)))))\n",
        "\n",
        "def printTestCase(s, cb, cw, sa):\n",
        "  t = [str(i) for i in [s, cb, cw, sa, CalculateSaleReturn(s, cb, cw, sa)]]\n",
        "  print(t, \",\")\n",
        "\n",
        "print(\"[\")\n",
        "print(\"//bancor paper test cases\")\n",
        "printTestCase((1000), (250), (500000), (0))\n",
        "for i in range(10, 1000, 50):\n",
        "  printTestCase((1000), (250), (500000), (i))\n",
        "print(\"//below 50 % test cases\")\n",
        "for i in range(10, 750, 50):\n",
        "  printTestCase((1000), (250), (250000), (i))\n",
        "print(\"//above 50% test cases\")\n",
        "for i in range(10, 750, 50):\n",
        "  printTestCase((1000), (250), (750000), (i))\n",
        "print(\"//bancor paper test cases zil\")\n",
        "printTestCase(zil(1000), zil(250), (500000), (0))\n",
        "for i in range(10, 1000, 50):\n",
        "  printTestCase(zil(1000), zil(250), (500000), zil(i))\n",
        "print(\"]\")"
      ],
      "execution_count": null,
      "outputs": []
    },
    {
      "cell_type": "code",
      "metadata": {
        "id": "GStkqBAJpgao"
      },
      "source": [
        "def printTestCase(s, cb, cw, da):\n",
        "  t = [str(i) for i in [s, cb, cw, da, CalculatePurchaseReturn(s, cb, cw, da)]]\n",
        "  print(t, \",\")\n",
        "\n",
        "def zil(s):\n",
        "  return int(s*math.pow(10,12))\n",
        "\n",
        "def eighteen(s):\n",
        "  return int(s*math.pow(10,18))\n",
        "\n",
        "def thirty(s):\n",
        "  return int(s*math.pow(10,30))\n",
        "\n",
        "def thirty_five(s):\n",
        "  return int(s*math.pow(10,35))\n",
        "\n",
        "printTestCase((1000), (250), (500000), (0))\n",
        "print(\"bancor paper test cases\")\n",
        "for i in range(10, 750, 50):\n",
        "  printTestCase((1000), (250), (500000), (i))\n",
        "print(\"below 50 % test cases\")\n",
        "for i in range(10, 750, 50):\n",
        "  printTestCase((1000), (250), (250000), (i))\n",
        "print(\"above 50% test cases\")\n",
        "for i in range(10, 750, 50):\n",
        "  printTestCase((1000), (250), (750000), (i))\n",
        "print(\"connector weight is max weight\")\n",
        "for i in range(10, 750, 50):\n",
        "  printTestCase((1000), (250), (1000000), (i))\n",
        "print(\"upscaled to zil\")\n",
        "for i in range(10, 750, 50):\n",
        "  printTestCase(zil(1000), zil(250), (500000), zil(i))\n",
        "print(\"eighteen zeroes\")\n",
        "for i in range(10, 750, 50):\n",
        "  printTestCase(eighteen(1000), eighteen(250), (500000), eighteen(i))\n",
        "\n",
        "print(\"thirty zeroes\")\n",
        "for i in range(10, 750, 50):\n",
        "  printTestCase(thirty(1000), thirty(250), (500000), thirty(i))\n",
        "\n",
        "print(\"thirty five zeroes\")\n",
        "for i in range(10, 750, 50):\n",
        "  printTestCase(thirty_five(1000), thirty_five(250), (500000), thirty_five(i))\n",
        "\n",
        "print(\"generalLogGeneralExp\")\n",
        "for i in range(10, 750, 50):\n",
        "  printTestCase(eighteen(1000), (250), (500000), eighteen(i))\n",
        "# debug\n",
        "# for i in range(60, 110):\n",
        "#   printTestCase((1000), (250), (500000), (i))"
      ],
      "execution_count": null,
      "outputs": []
    },
    {
      "cell_type": "code",
      "metadata": {
        "colab": {
          "base_uri": "https://localhost:8080/"
        },
        "id": "Q9DgXMPmzOXJ",
        "outputId": "04957def-7901-4953-9542-09924f90abe2"
      },
      "source": [
        "# Test: [\"1000\",\"250\",\"500000\",\"71\",\"133\"]:\n",
        "# result: success\n",
        "# event: \n",
        "# ________________________________\n",
        "# 0 133\n",
        "# Test: [\"1000\",\"250\",\"500000\",\"72\",\"134\"]:\n",
        "# result: success\n",
        "# event: \n",
        "# ________________________________\n",
        "# -133 1\n",
        "import math\n",
        "OPT_LOG_MAX_VAL = 462491687273110168575455517921668397539\n",
        "MAX_WEIGHT = 1000000\n",
        "OPT_EXP_MAX_VAL = 2722258935367507707706996859454145691648\n",
        "s = 1000\n",
        "cb = 250\n",
        "cw = 500000\n",
        "\n",
        "def if_contains_muldiv_condition(x, bits):\n",
        "    #   let if_contains_muldiv: Uint256 -> Uint256 -> Uint256 -> Uint256 -> Uint256 -> Uint256 =\n",
        "    # fun(local_x: Uint256) => fun(bits: Uint256) => fun(res: Uint256) => fun(numerator: Uint256) => fun(denominator: Uint256) =>\n",
        "    # let one = Uint256 1 in\n",
        "    # let bits_plus_one = builtin add bits one in \n",
        "    # let x_mod_condition = builtin rem local_x bits_plus_one in\n",
        "    # let two_pow_bits = pow_uint256 two_uint256 bits in\n",
        "    # let modded_div_bits = builtin div x_mod_condition two_pow_bits in\n",
        "    # let x_not_contains = builtin eq zero_uint256 modded_div_bits in\n",
        "    # match x_not_contains with\n",
        "    # | True => res\n",
        "    # | False => muldiv res numerator denominator\n",
        "    # end in\n",
        "  bits_add_one = 1 + bits\n",
        "# working case\n",
        "def printInfo(cb, depo):\n",
        "  baseN = (cb+depo)\n",
        "  print()\n",
        "  print(baseN/cb, \"base |\")\n",
        "  print((baseN * FIXED_1 / cb) < OPT_LOG_MAX_VAL, \"can do optimal log |\",)\n",
        "  base_log = math.log(baseN/cb)*FIXED_1\n",
        "  print(base_log, \"baseLog |\",)\n",
        "  base_log_times_exp = (base_log*cw)/MAX_WEIGHT\n",
        "  print(base_log_times_exp, \"baselogTimesExp |\",)\n",
        "  print(base_log_times_exp < OPT_EXP_MAX_VAL, \"can do optimal exp |\",)\n",
        "  x = int(base_log_times_exp)\n",
        "  print((x & 0x010000000000000000000000000000000) != 0)\n",
        "  print(x & 0x020000000000000000000000000000000 != 0)\n",
        "  print(x & 0x040000000000000000000000000000000 != 0)\n",
        "  print(x & 0x080000000000000000000000000000000 != 0)\n",
        "  print(x & 0x100000000000000000000000000000000 != 0)\n",
        "  print(x & 0x200000000000000000000000000000000 != 0)\n",
        "  print(x & 0x400000000000000000000000000000000 != 0)\n",
        "\n",
        "# printInfo(250, 71)\n",
        "# print()\n",
        "# printInfo(250, 72)\n",
        "\n",
        "# # [\"1000000000000000\",\"250000000000000\",\"500000\",\"410000000000000\",\"624807680927192\"]\n",
        "# # [\"1000000000000000000000\",\"250000000000000000000\",\"500000\",\"410000000000000000000\",\"624807680927192055808\"]\n",
        "# print(\"zil\")\n",
        "# printInfo(250000000000000, 410000000000000)\n",
        "# print(\"eighteen zeroes\")\n",
        "# printInfo(250000000000000000000, 410000000000000000000)\n",
        "# # [\"1000000000000000089690419062898688\",\"250000000000000022422604765724672\",\"500000\",\"409999999999999980568148466204672\",\"624807680927192113214042178322432\"]\n",
        "# print(\"thirty zeroes\")\n",
        "# printInfo(250000000000000022422604765724672, 409999999999999980568148466204672)\n",
        "# # [\"99999999999999997748809823456034029568\",\"24999999999999999437202455864008507392\",\"500000\",\"40999999999999997754749412413473292288\",\"62480768092719207401471102168963481600\"]\n",
        "# printInfo(1, 4099990000099922288)\n",
        "\n",
        "def printInfoCrossReturn(frob, amt):\n",
        "  baseN = frob+amt\n",
        "  baseD = frob\n",
        "  print()\n",
        "  print(baseN/baseD, \"base |\")\n",
        "  print((baseN * FIXED_1 / baseD) < OPT_LOG_MAX_VAL, \"can do optimal log |\",)\n",
        "  base_log = math.log(baseN/baseD)*FIXED_1\n",
        "  print(base_log, \"baseLog |\",)\n",
        "  base_log_times_exp = (base_log*cw)/MAX_WEIGHT\n",
        "  print(base_log_times_exp, \"baselogTimesExp |\",)\n",
        "  print(base_log_times_exp < OPT_EXP_MAX_VAL, \"can do optimal exp |\",)\n",
        "  x = int(base_log_times_exp)\n",
        "  print((x & 0x010000000000000000000000000000000) != 0)\n",
        "  print(x & 0x020000000000000000000000000000000 != 0)\n",
        "  print(x & 0x040000000000000000000000000000000 != 0)\n",
        "  print(x & 0x080000000000000000000000000000000 != 0)\n",
        "  print(x & 0x100000000000000000000000000000000 != 0)\n",
        "  print(x & 0x200000000000000000000000000000000 != 0)\n",
        "  print(x & 0x400000000000000000000000000000000 != 0)\n",
        "\n",
        "#  [\n",
        "#     \"561000000000000\",\n",
        "#     \"12341\",\n",
        "#     \"435000000000000\",\n",
        "#     \"65341\",\n",
        "#     \"50000000000000\",\n",
        "#     \"6958139114315\",\n",
        "#   ]\n",
        "printInfoCrossReturn(561000000000000, 50000000000000)"
      ],
      "execution_count": 7,
      "outputs": [
        {
          "output_type": "stream",
          "text": [
            "\n",
            "1.089126559714795 base |\n",
            "True can do optimal log |\n",
            "1.4525982807008188e+37 baseLog |\n",
            "7.262991403504094e+36 baselogTimesExp |\n",
            "True can do optimal exp |\n",
            "False\n",
            "False\n",
            "False\n",
            "False\n",
            "False\n",
            "False\n",
            "False\n"
          ],
          "name": "stdout"
        }
      ]
    },
    {
      "cell_type": "code",
      "metadata": {
        "colab": {
          "base_uri": "https://localhost:8080/"
        },
        "id": "g2uFFF7r_4ay",
        "outputId": "1c795697-e75b-4aec-94bb-9999726c6061"
      },
      "source": [
        "print(math.log10(462491687273110168575455517921668397539))\n",
        "math.log10(680564733841876926926749214863536422912)"
      ],
      "execution_count": null,
      "outputs": [
        {
          "output_type": "stream",
          "text": [
            "38.66510393122886\n"
          ],
          "name": "stdout"
        },
        {
          "output_type": "execute_result",
          "data": {
            "text/plain": [
              "38.832869440653575"
            ]
          },
          "metadata": {
            "tags": []
          },
          "execution_count": 150
        }
      ]
    },
    {
      "cell_type": "code",
      "metadata": {
        "colab": {
          "base_uri": "https://localhost:8080/"
        },
        "id": "5jQgGfP_Rxp1",
        "outputId": "82bcb8be-f73a-4799-9f61-5453ca657410"
      },
      "source": [
        "(2000000000*30877)/math.pow(10,12)"
      ],
      "execution_count": null,
      "outputs": [
        {
          "output_type": "execute_result",
          "data": {
            "text/plain": [
              "61.754"
            ]
          },
          "metadata": {
            "tags": []
          },
          "execution_count": 162
        }
      ]
    },
    {
      "cell_type": "code",
      "metadata": {
        "id": "nY38ccsmnjBW",
        "colab": {
          "base_uri": "https://localhost:8080/"
        },
        "outputId": "04ce51b7-6f7c-4bb7-8739-72dfe701e3ad"
      },
      "source": [
        "# figure out the get reserve ratio algorithm\n",
        "import random\n",
        "import math\n",
        "\n",
        "FIXED_1 = math.pow(10, 18)\n",
        "FIXED_DENOM = math.pow(10, 12)\n",
        "max = (math.pow(2,128)-1)\n",
        "\n",
        "def getRandom():\n",
        "  return random.randint(1,max)\n",
        "def getNum(s):\n",
        "  return random.randint(1 , s - 1)\n",
        "\n",
        "denom = getRandom()\n",
        "num = getNum(denom)\n",
        "num*(max*math.pow(10,6))//(denom*max)"
      ],
      "execution_count": 77,
      "outputs": [
        {
          "output_type": "execute_result",
          "data": {
            "text/plain": [
              "610090.0"
            ]
          },
          "metadata": {},
          "execution_count": 77
        }
      ]
    },
    {
      "cell_type": "code",
      "metadata": {
        "colab": {
          "base_uri": "https://localhost:8080/",
          "height": 35
        },
        "id": "KayhxXAh_ZTT",
        "outputId": "5c0ad155-62eb-403f-c2c5-44b634cd3c82"
      },
      "source": [
        "import math\n",
        "\"{:.0f}\".format((math.pow(2,128)-1))\n"
      ],
      "execution_count": 9,
      "outputs": [
        {
          "output_type": "execute_result",
          "data": {
            "application/vnd.google.colaboratory.intrinsic+json": {
              "type": "string"
            },
            "text/plain": [
              "'340282366920938463463374607431768211456'"
            ]
          },
          "metadata": {},
          "execution_count": 9
        }
      ]
    },
    {
      "cell_type": "code",
      "metadata": {
        "colab": {
          "base_uri": "https://localhost:8080/"
        },
        "id": "hmYfWLI8bXPZ",
        "outputId": "303bed39-98c0-44e1-f6d4-e23049e71d91"
      },
      "source": [
        "int(math.pow(10,6))"
      ],
      "execution_count": 7,
      "outputs": [
        {
          "output_type": "execute_result",
          "data": {
            "text/plain": [
              "1000000"
            ]
          },
          "metadata": {},
          "execution_count": 7
        }
      ]
    },
    {
      "cell_type": "code",
      "metadata": {
        "id": "g5BWkL8TdUgd"
      },
      "source": [
        ""
      ],
      "execution_count": null,
      "outputs": []
    }
  ]
}